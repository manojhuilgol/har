{
 "cells": [
  {
   "cell_type": "markdown",
   "metadata": {
    "colab_type": "text",
    "id": "PI9mP4HwNqDN"
   },
   "source": [
    "## **1.Importing Environment**"
   ]
  },
  {
   "cell_type": "code",
   "execution_count": 1,
   "metadata": {
    "colab": {
     "base_uri": "https://localhost:8080/",
     "height": 101
    },
    "colab_type": "code",
    "id": "OR-UkEwrNqDP",
    "outputId": "80e7a8d0-43c3-4209-c834-6e4f9eff2a64"
   },
   "outputs": [
    {
     "name": "stderr",
     "output_type": "stream",
     "text": [
      "Using TensorFlow backend.\n",
      "/usr/local/lib/python3.6/dist-packages/statsmodels/tools/_testing.py:19: FutureWarning:\n",
      "\n",
      "pandas.util.testing is deprecated. Use the functions in the public API at pandas.testing instead.\n",
      "\n"
     ]
    }
   ],
   "source": [
    "import pandas as pd\n",
    "import numpy as np\n",
    "from sklearn.metrics import confusion_matrix\n",
    "import plotly.express as px\n",
    "import os\n",
    "import plotly.offline as og\n",
    "import plotly.express as px\n",
    "from sklearn.multiclass import OneVsRestClassifier\n",
    "from sklearn.svm import SVC\n",
    "from sklearn.metrics import precision_recall_fscore_support, classification_report, confusion_matrix, precision_recall_curve, roc_curve, f1_score\n",
    "from sklearn.model_selection import GroupKFold, cross_validate, GridSearchCV, validation_curve\n",
    "from sklearn.datasets import load_digits\n",
    "import matplotlib.pyplot as plt\n",
    "import plotly.figure_factory as ff\n",
    "import plotly.graph_objs as go\n",
    "import pandas as pd\n",
    "import numpy as np\n",
    "import seaborn as sn\n",
    "from sklearn.ensemble import RandomForestClassifier"
   ]
  },
  {
   "cell_type": "code",
   "execution_count": 2,
   "metadata": {
    "colab": {
     "base_uri": "https://localhost:8080/",
     "height": 121
    },
    "colab_type": "code",
    "id": "PM5wgmC7Oe-g",
    "outputId": "2b1ad2ee-d94b-40d9-a858-2a4a967f7ab2"
   },
   "outputs": [
    {
     "name": "stdout",
     "output_type": "stream",
     "text": [
      "Go to this URL in a browser: https://accounts.google.com/o/oauth2/auth?client_id=947318989803-6bn6qk8qdgf4n4g3pfee6491hc0brc4i.apps.googleusercontent.com&redirect_uri=urn%3aietf%3awg%3aoauth%3a2.0%3aoob&response_type=code&scope=email%20https%3a%2f%2fwww.googleapis.com%2fauth%2fdocs.test%20https%3a%2f%2fwww.googleapis.com%2fauth%2fdrive%20https%3a%2f%2fwww.googleapis.com%2fauth%2fdrive.photos.readonly%20https%3a%2f%2fwww.googleapis.com%2fauth%2fpeopleapi.readonly\n",
      "\n",
      "Enter your authorization code:\n",
      "··········\n",
      "Mounted at /content/drive/\n"
     ]
    }
   ],
   "source": [
    "from google.colab import drive\n",
    "drive.mount('/content/drive/')"
   ]
  },
  {
   "cell_type": "markdown",
   "metadata": {
    "colab_type": "text",
    "id": "0HCfy8SnNqDZ"
   },
   "source": [
    "## **1.1 Importing the Pre-processed data from UCI HAR dataset [1]**"
   ]
  },
  {
   "cell_type": "code",
   "execution_count": 0,
   "metadata": {
    "colab": {},
    "colab_type": "code",
    "id": "6KdlJUDmNqDb"
   },
   "outputs": [],
   "source": [
    "PATH = \"/content/drive/My Drive/UCI HAR Dataset/\"\n",
    "\n",
    "\n",
    "train_data = pd.read_csv(\"/content/drive/My Drive/UCI HAR Dataset/train/X_train.txt\", delimiter= '\\s+', header=None)\n",
    "train_labels = pd.read_csv(\"/content/drive/My Drive/UCI HAR Dataset/train/y_train.txt\", delimiter= '\\s+', header=None)\n",
    "\n",
    "\n",
    "test_data = pd.read_csv(\"/content/drive/My Drive/UCI HAR Dataset/test/X_test.txt\", delimiter= '\\s+', header=None)\n",
    "test_labels = pd.read_csv(\"/content/drive/My Drive/UCI HAR Dataset/test/y_test.txt\", delimiter= '\\s+', header=None)\n",
    "\n",
    "\n",
    "colnames=['subject_id'] \n",
    "subject_train = pd.read_csv(\"/content/drive/My Drive/UCI HAR Dataset/train/subject_train.txt\", delimiter= '\\s+', header=None, names=colnames)\n",
    "subject_test = pd.read_csv(\"/content/drive/My Drive/UCI HAR Dataset/test/subject_test.txt\", delimiter= '\\s+', header=None, names=colnames)\n",
    "\n",
    "\n",
    "colnames = ['activity_id','activity_name']\n",
    "activity_labels = pd.read_csv(r\"/content/drive/My Drive/UCI HAR Dataset/activity_labels.txt\", delimiter= '\\s+', header=None, names=colnames)\n",
    "\n",
    "\n",
    "colnames = ['id', 'feature_name']\n",
    "features = pd.read_csv(r\"/content/drive/My Drive/UCI HAR Dataset/features.txt\", delimiter= '\\s+', header=None, names=colnames)\n",
    "\n"
   ]
  },
  {
   "cell_type": "markdown",
   "metadata": {
    "colab_type": "text",
    "id": "-1zsidTtNqDn"
   },
   "source": [
    "### Assigning the column names of train and test data with their corresponding feature names"
   ]
  },
  {
   "cell_type": "code",
   "execution_count": 0,
   "metadata": {
    "colab": {},
    "colab_type": "code",
    "id": "9ApLE9IlNqDp"
   },
   "outputs": [],
   "source": [
    "train_data.columns = features.feature_name\n",
    "test_data.columns = features.feature_name"
   ]
  },
  {
   "cell_type": "markdown",
   "metadata": {
    "colab_type": "text",
    "id": "HAe4_UjRNqEB"
   },
   "source": [
    "## **1.2 Analysis of the Data**"
   ]
  },
  {
   "cell_type": "code",
   "execution_count": 8,
   "metadata": {
    "colab": {
     "base_uri": "https://localhost:8080/",
     "height": 50
    },
    "colab_type": "code",
    "id": "Sj_uTxA5NqEH",
    "outputId": "fb1d27c3-6ce6-4dc9-989b-af917ece0881"
   },
   "outputs": [
    {
     "name": "stdout",
     "output_type": "stream",
     "text": [
      "Subject Id's for Training [ 1  3  5  6  7  8 11 14 15 16 17 19 21 22 23 25 26 27 28 29 30]\n",
      "Subject Id's for Testing [ 2  4  9 10 12 13 18 20 24]\n"
     ]
    }
   ],
   "source": [
    "# Subject ID's available for training the model\n",
    "\n",
    "print (\"Subject Id's for Training {}\".format(subject_train.subject_id.unique()))\n",
    "print (\"Subject Id's for Testing {}\".format(subject_test.subject_id.unique()))"
   ]
  },
  {
   "cell_type": "code",
   "execution_count": 0,
   "metadata": {
    "colab": {},
    "colab_type": "code",
    "id": "0TXHtvuYNqER"
   },
   "outputs": [],
   "source": [
    "data_train_all = train_data.copy()\n",
    "data_test_all = test_data.copy()\n",
    "\n",
    "data_train_all[\"subject_id\"] = subject_train.subject_id\n",
    "data_train_all[\"activity_id\"] = train_labels\n",
    "\n",
    "data_test_all[\"subject_id\"] = subject_test.subject_id\n",
    "data_test_all[\"activity_id\"] = test_labels\n",
    "\n",
    "data_train_all[\"activity_label\"] =  \"\"\n",
    "for id in activity_labels.activity_id.unique():\n",
    "    data_train_all.loc[data_train_all.activity_id == id, \"activity_label\"] = activity_labels.loc[activity_labels.activity_id == id].activity_name.iloc[0]\n",
    "\n",
    "data_test_all[\"activity_label\"] = \"\"\n",
    "for id in activity_labels.activity_id.unique():\n",
    "    data_test_all.loc[data_test_all.activity_id == id, \"activity_label\"]  = activity_labels.loc[activity_labels.activity_id == id].activity_name.iloc[0]\n",
    "\n",
    "\n",
    "data_train_all[\"type\"] = \"Train\"\n",
    "data_test_all[\"type\"] = \"Test\"\n",
    "\n",
    "data_all = pd.concat([data_train_all, data_test_all])\n",
    "data_train_all = data_train_all.drop(columns=\"type\")\n",
    "data_test_all = data_test_all.drop(columns=\"type\")"
   ]
  },
  {
   "cell_type": "markdown",
   "metadata": {
    "colab_type": "text",
    "id": "jhCMahXjNqEZ"
   },
   "source": [
    "### Total distribution of activities available for Training and Testing"
   ]
  },
  {
   "cell_type": "code",
   "execution_count": 0,
   "metadata": {
    "colab": {},
    "colab_type": "code",
    "id": "YRubRuLnNqEb",
    "outputId": "3193aa3d-eff7-4d03-d4e6-62593543d3bd"
   },
   "outputs": [
    {
     "data": {
      "image/png": "[encoded data removed]"
     },
     "metadata": {
      "tags": []
     },
     "output_type": "display_data"
    }
   ],
   "source": [
    "fig = px.histogram(data_all, x = 'activity_label', barmode='group', color=\"type\"\n",
    "                   )\n",
    "\n",
    "fig.update_layout(\n",
    "    title = '<b>Distribution of the Activities on TRAIN and TEST data for all the subjects</b>',\n",
    "    xaxis_title=\"<b><i>Activity Names</i></b>\",\n",
    "    yaxis_title=\"<b><i>Size of the data</i></b>\",\n",
    "    font=dict(\n",
    "        size=10\n",
    "    ))\n",
    "for trace in fig.data:\n",
    "    trace.name = trace.name.split('=')[1]\n",
    "    \n",
    "fig.show(\"png\")\n",
    "    \n",
    "# Image(fig.to_image(format=\"png\", scale=3))"
   ]
  },
  {
   "cell_type": "code",
   "execution_count": 0,
   "metadata": {
    "colab": {},
    "colab_type": "code",
    "id": "quui2vhkNqEk",
    "outputId": "fdccfff5-1fed-435b-d9c4-44b67be345c2"
   },
   "outputs": [
    {
     "data": {
      "image/png": "[encoded data removed]"
     },
     "metadata": {
      "tags": []
     },
     "output_type": "display_data"
    }
   ],
   "source": [
    "fig = px.histogram(data_train_all, x = 'activity_label', barmode='group',\n",
    "                   color='subject_id'\n",
    "                   )\n",
    "\n",
    "fig.update_layout(\n",
    "    autosize=False,\n",
    "    width=900,\n",
    "    height=900,\n",
    "    title = '<b>Distribution of the Activities for each Subject on the Train data</b>',\n",
    "    xaxis_title=\"<b><i>Activity Names</i></b>\",\n",
    "    yaxis_title=\"<b><i>Size of the data</i></b>\",\n",
    "    font=dict(\n",
    "        size=10\n",
    "    )\n",
    ")\n",
    "\n",
    "fig.show(\"png\")\n"
   ]
  },
  {
   "cell_type": "code",
   "execution_count": 0,
   "metadata": {
    "colab": {},
    "colab_type": "code",
    "id": "HHAQTIrfNqEs",
    "outputId": "e64598e5-1599-4e77-d2c3-218dff27d907"
   },
   "outputs": [
    {
     "data": {
      "image/png": "[encoded data removed]"
     },
     "metadata": {
      "tags": []
     },
     "output_type": "display_data"
    }
   ],
   "source": [
    "fig = px.histogram(data_test_all, x = 'activity_label', barmode='group',\n",
    "                   color='subject_id'\n",
    "                   )\n",
    "\n",
    "fig.update_layout(\n",
    "    autosize=False,\n",
    "    width=900,\n",
    "    height=900,\n",
    "    title = '<b>Distribution of the Activities for each Subject on Test data</b>',\n",
    "    xaxis_title=\"<b><i>Activity Names</i></b>\",\n",
    "    yaxis_title=\"<b><i>Size of the data</i></b>\",\n",
    "    font=dict(\n",
    "        size=10\n",
    "    )\n",
    ")\n",
    "\n",
    "fig.show(\"png\")"
   ]
  },
  {
   "cell_type": "code",
   "execution_count": 0,
   "metadata": {
    "colab": {},
    "colab_type": "code",
    "id": "xKVkAWL5PX5x"
   },
   "outputs": [],
   "source": [
    "X_train = train_data\n",
    "X_test = test_data\n",
    "\n",
    "y_train = train_labels\n",
    "y_test = test_labels"
   ]
  },
  {
   "cell_type": "markdown",
   "metadata": {
    "colab_type": "text",
    "id": "MlHDxuA_3mBj"
   },
   "source": [
    "## 2 **Training the model with SVM One vs Rest** [13]\n",
    "\n",
    "#### **2.1   Using Traditional Train-test split**\n",
    "\n"
   ]
  },
  {
   "cell_type": "code",
   "execution_count": 44,
   "metadata": {
    "colab": {
     "base_uri": "https://localhost:8080/",
     "height": 252
    },
    "colab_type": "code",
    "id": "kkIvt_9Oct2p",
    "outputId": "0bf44ec6-5a29-4a36-e4c8-16c238f5743c"
   },
   "outputs": [
    {
     "name": "stdout",
     "output_type": "stream",
     "text": [
      "              precision    recall  f1-score   support\n",
      "\n",
      "           1       0.96      0.98      0.97       496\n",
      "           2       0.93      0.97      0.95       471\n",
      "           3       0.99      0.93      0.96       420\n",
      "           4       0.94      0.90      0.92       491\n",
      "           5       0.91      0.95      0.93       532\n",
      "           6       1.00      1.00      1.00       537\n",
      "\n",
      "    accuracy                           0.95      2947\n",
      "   macro avg       0.96      0.95      0.95      2947\n",
      "weighted avg       0.95      0.95      0.95      2947\n",
      "\n",
      "The total accuracy is 0.9541907024092298\n"
     ]
    }
   ],
   "source": [
    "clf_traditional = OneVsRestClassifier(SVC(kernel='rbf', C=1,  gamma=0.01, probability=True)).fit(X_train, y_train)\n",
    "pred_svc_traditional = clf_traditional.predict(X_test)\n",
    "print (classification_report(y_test, pred_svc_traditional))\n",
    "\n",
    "accuracy_svm = classification_report(y_test, pred_svc_traditional, output_dict=True)[\"accuracy\"]\n",
    "print (\"The total accuracy is {}\".format(accuracy_svm))"
   ]
  },
  {
   "cell_type": "code",
   "execution_count": 45,
   "metadata": {
    "colab": {
     "base_uri": "https://localhost:8080/",
     "height": 235
    },
    "colab_type": "code",
    "id": "-a4hIE5VRDfX",
    "outputId": "4b41240c-629f-4d04-e582-606c1b972f4d"
   },
   "outputs": [
    {
     "data": {
      "text/plain": [
       "array([[3.16264943e-07, 5.12123828e-05, 7.79741908e-05, 2.44975404e-04,\n",
       "        9.99500323e-01, 1.25198759e-04],\n",
       "       [1.04577542e-07, 7.31414879e-06, 3.88502935e-06, 1.29778602e-02,\n",
       "        9.86992766e-01, 1.80702178e-05],\n",
       "       [3.07386986e-07, 2.71939016e-07, 3.49927979e-05, 2.03432171e-03,\n",
       "        9.97926684e-01, 3.42252576e-06],\n",
       "       ...,\n",
       "       [5.04887700e-04, 9.99185276e-01, 1.89114606e-05, 6.36595713e-05,\n",
       "        1.37976501e-04, 8.92887227e-05],\n",
       "       [2.48119217e-03, 9.96653501e-01, 4.89493012e-05, 6.96535506e-04,\n",
       "        6.38415310e-05, 5.59800794e-05],\n",
       "       [3.18693182e-01, 6.80256599e-01, 6.90617819e-05, 3.96983348e-04,\n",
       "        3.80791749e-04, 2.03381952e-04]])"
      ]
     },
     "execution_count": 45,
     "metadata": {
      "tags": []
     },
     "output_type": "execute_result"
    }
   ],
   "source": [
    "svm_traditional_prob = clf_traditional.predict_proba(X_test)\n",
    "svm_traditional_prob"
   ]
  },
  {
   "cell_type": "markdown",
   "metadata": {
    "colab_type": "text",
    "id": "g0RCNYSDP0GS"
   },
   "source": [
    "### ROC curve and Precision-Recall curve [14] [15]"
   ]
  },
  {
   "cell_type": "code",
   "execution_count": 64,
   "metadata": {
    "colab": {
     "base_uri": "https://localhost:8080/",
     "height": 557
    },
    "colab_type": "code",
    "id": "4Pv0NkNAP3fE",
    "outputId": "283383ef-1245-48d4-a911-718d2b494423"
   },
   "outputs": [
    {
     "data": {
      "image/png": "[encoded data removed]",
      "text/plain": [
       "<Figure size 1440x576 with 2 Axes>"
      ]
     },
     "metadata": {
      "needs_background": "light",
      "tags": []
     },
     "output_type": "display_data"
    }
   ],
   "source": [
    "fpr = dict()\n",
    "tpr = dict()\n",
    "\n",
    "precision = dict()\n",
    "recall = dict()\n",
    "\n",
    "plt.figure(figsize=(20, 8))\n",
    "\n",
    "plt.subplot(1,2,1)\n",
    "for i in range(6):\n",
    "    fpr[i], tpr[i], _ = roc_curve(pd.get_dummies(test_labels[0]).values[:, i], svm_traditional_prob[:, i])\n",
    "    plt.plot(fpr[i], tpr[i], lw=2, label='{}'.format(activity_labels.iloc[i].activity_name))\n",
    "    plt.xlabel(\"false positive rate\")\n",
    "    plt.ylabel(\"true positive rate\")\n",
    "    plt.legend(loc=\"best\")\n",
    "    plt.title(\"ROC curve\", fontweight='bold')\n",
    "\n",
    "plt.subplot(1,2,2)\n",
    "for i in range(6):\n",
    "    precision[i], recall[i], _ = precision_recall_curve(pd.get_dummies(test_labels[0]).values[:, i], svm_traditional_prob[:, i])\n",
    "    plt.plot(recall[i], precision[i], lw=2, label='{}'.format(activity_labels.iloc[i].activity_name))\n",
    "    plt.xlabel(\"Recall\")\n",
    "    plt.ylabel(\"Precision\")\n",
    "    plt.legend(loc=\"best\")\n",
    "    plt.title(\"Precision - Recall curve\", fontweight='bold')\n",
    "\n",
    "plt.suptitle(\"Support Vector Machine\", fontsize=15, fontweight='bold')\n",
    "plt.show()"
   ]
  },
  {
   "cell_type": "markdown",
   "metadata": {
    "colab_type": "text",
    "id": "zGpkE6iF6mjy"
   },
   "source": [
    "### **2.2 Using Grouped Cross Validation (Subject level CV)**\n",
    "\n",
    "##### The grouping based on different participants can be done to train and validate the model against the data from unseen participant (Subject) so that the generalization capability of the model can be evaluated.\n",
    "[3][4] [16]"
   ]
  },
  {
   "cell_type": "code",
   "execution_count": 6,
   "metadata": {
    "colab": {
     "base_uri": "https://localhost:8080/",
     "height": 1000
    },
    "colab_type": "code",
    "id": "7FNRGJ_a3a-7",
    "outputId": "e7bc0e90-bb9e-4d83-f5e0-c5f778d5f07e"
   },
   "outputs": [
    {
     "name": "stdout",
     "output_type": "stream",
     "text": [
      "Fitting 21 folds for each of 4 candidates, totalling 84 fits\n",
      "[CV] estimator__C=1, estimator__kernel=linear ........................\n"
     ]
    },
    {
     "name": "stderr",
     "output_type": "stream",
     "text": [
      "[Parallel(n_jobs=1)]: Using backend SequentialBackend with 1 concurrent workers.\n"
     ]
    },
    {
     "name": "stdout",
     "output_type": "stream",
     "text": [
      "[CV] ......... estimator__C=1, estimator__kernel=linear, total=  45.1s\n",
      "[CV] estimator__C=1, estimator__kernel=linear ........................\n"
     ]
    },
    {
     "name": "stderr",
     "output_type": "stream",
     "text": [
      "[Parallel(n_jobs=1)]: Done   1 out of   1 | elapsed:   50.0s remaining:    0.0s\n"
     ]
    },
    {
     "name": "stdout",
     "output_type": "stream",
     "text": [
      "[CV] ......... estimator__C=1, estimator__kernel=linear, total=  44.5s\n",
      "[CV] estimator__C=1, estimator__kernel=linear ........................\n",
      "[CV] ......... estimator__C=1, estimator__kernel=linear, total=  45.9s\n",
      "[CV] estimator__C=1, estimator__kernel=linear ........................\n",
      "[CV] ......... estimator__C=1, estimator__kernel=linear, total=  46.2s\n",
      "[CV] estimator__C=1, estimator__kernel=linear ........................\n",
      "[CV] ......... estimator__C=1, estimator__kernel=linear, total=  44.5s\n",
      "[CV] estimator__C=1, estimator__kernel=linear ........................\n",
      "[CV] ......... estimator__C=1, estimator__kernel=linear, total=  46.8s\n",
      "[CV] estimator__C=1, estimator__kernel=linear ........................\n",
      "[CV] ......... estimator__C=1, estimator__kernel=linear, total=  45.6s\n",
      "[CV] estimator__C=1, estimator__kernel=linear ........................\n",
      "[CV] ......... estimator__C=1, estimator__kernel=linear, total=  45.7s\n",
      "[CV] estimator__C=1, estimator__kernel=linear ........................\n",
      "[CV] ......... estimator__C=1, estimator__kernel=linear, total=  42.4s\n",
      "[CV] estimator__C=1, estimator__kernel=linear ........................\n",
      "[CV] ......... estimator__C=1, estimator__kernel=linear, total=  46.0s\n",
      "[CV] estimator__C=1, estimator__kernel=linear ........................\n",
      "[CV] ......... estimator__C=1, estimator__kernel=linear, total=  48.3s\n",
      "[CV] estimator__C=1, estimator__kernel=linear ........................\n",
      "[CV] ......... estimator__C=1, estimator__kernel=linear, total=  45.0s\n",
      "[CV] estimator__C=1, estimator__kernel=linear ........................\n",
      "[CV] ......... estimator__C=1, estimator__kernel=linear, total=  44.9s\n",
      "[CV] estimator__C=1, estimator__kernel=linear ........................\n",
      "[CV] ......... estimator__C=1, estimator__kernel=linear, total=  44.8s\n",
      "[CV] estimator__C=1, estimator__kernel=linear ........................\n",
      "[CV] ......... estimator__C=1, estimator__kernel=linear, total=  43.3s\n",
      "[CV] estimator__C=1, estimator__kernel=linear ........................\n",
      "[CV] ......... estimator__C=1, estimator__kernel=linear, total=  42.9s\n",
      "[CV] estimator__C=1, estimator__kernel=linear ........................\n",
      "[CV] ......... estimator__C=1, estimator__kernel=linear, total=  44.4s\n",
      "[CV] estimator__C=1, estimator__kernel=linear ........................\n",
      "[CV] ......... estimator__C=1, estimator__kernel=linear, total=  45.2s\n",
      "[CV] estimator__C=1, estimator__kernel=linear ........................\n",
      "[CV] ......... estimator__C=1, estimator__kernel=linear, total=  43.0s\n",
      "[CV] estimator__C=1, estimator__kernel=linear ........................\n",
      "[CV] ......... estimator__C=1, estimator__kernel=linear, total=  43.1s\n",
      "[CV] estimator__C=1, estimator__kernel=linear ........................\n",
      "[CV] ......... estimator__C=1, estimator__kernel=linear, total=  45.5s\n",
      "[CV] estimator__C=1, estimator__kernel=rbf ...........................\n",
      "[CV] ............ estimator__C=1, estimator__kernel=rbf, total= 2.0min\n",
      "[CV] estimator__C=1, estimator__kernel=rbf ...........................\n",
      "[CV] ............ estimator__C=1, estimator__kernel=rbf, total= 2.1min\n",
      "[CV] estimator__C=1, estimator__kernel=rbf ...........................\n",
      "[CV] ............ estimator__C=1, estimator__kernel=rbf, total= 2.2min\n",
      "[CV] estimator__C=1, estimator__kernel=rbf ...........................\n",
      "[CV] ............ estimator__C=1, estimator__kernel=rbf, total= 2.1min\n",
      "[CV] estimator__C=1, estimator__kernel=rbf ...........................\n",
      "[CV] ............ estimator__C=1, estimator__kernel=rbf, total= 2.0min\n",
      "[CV] estimator__C=1, estimator__kernel=rbf ...........................\n",
      "[CV] ............ estimator__C=1, estimator__kernel=rbf, total= 2.1min\n",
      "[CV] estimator__C=1, estimator__kernel=rbf ...........................\n",
      "[CV] ............ estimator__C=1, estimator__kernel=rbf, total= 2.1min\n",
      "[CV] estimator__C=1, estimator__kernel=rbf ...........................\n",
      "[CV] ............ estimator__C=1, estimator__kernel=rbf, total= 2.1min\n",
      "[CV] estimator__C=1, estimator__kernel=rbf ...........................\n",
      "[CV] ............ estimator__C=1, estimator__kernel=rbf, total= 2.2min\n",
      "[CV] estimator__C=1, estimator__kernel=rbf ...........................\n",
      "[CV] ............ estimator__C=1, estimator__kernel=rbf, total= 2.2min\n",
      "[CV] estimator__C=1, estimator__kernel=rbf ...........................\n",
      "[CV] ............ estimator__C=1, estimator__kernel=rbf, total= 2.3min\n",
      "[CV] estimator__C=1, estimator__kernel=rbf ...........................\n",
      "[CV] ............ estimator__C=1, estimator__kernel=rbf, total= 2.2min\n",
      "[CV] estimator__C=1, estimator__kernel=rbf ...........................\n",
      "[CV] ............ estimator__C=1, estimator__kernel=rbf, total= 2.1min\n",
      "[CV] estimator__C=1, estimator__kernel=rbf ...........................\n",
      "[CV] ............ estimator__C=1, estimator__kernel=rbf, total= 2.1min\n",
      "[CV] estimator__C=1, estimator__kernel=rbf ...........................\n",
      "[CV] ............ estimator__C=1, estimator__kernel=rbf, total= 2.0min\n",
      "[CV] estimator__C=1, estimator__kernel=rbf ...........................\n",
      "[CV] ............ estimator__C=1, estimator__kernel=rbf, total= 2.0min\n",
      "[CV] estimator__C=1, estimator__kernel=rbf ...........................\n",
      "[CV] ............ estimator__C=1, estimator__kernel=rbf, total= 2.1min\n",
      "[CV] estimator__C=1, estimator__kernel=rbf ...........................\n",
      "[CV] ............ estimator__C=1, estimator__kernel=rbf, total= 2.1min\n",
      "[CV] estimator__C=1, estimator__kernel=rbf ...........................\n",
      "[CV] ............ estimator__C=1, estimator__kernel=rbf, total= 2.1min\n",
      "[CV] estimator__C=1, estimator__kernel=rbf ...........................\n",
      "[CV] ............ estimator__C=1, estimator__kernel=rbf, total= 2.2min\n",
      "[CV] estimator__C=1, estimator__kernel=rbf ...........................\n",
      "[CV] ............ estimator__C=1, estimator__kernel=rbf, total= 2.3min\n",
      "[CV] estimator__C=10, estimator__kernel=linear .......................\n",
      "[CV] ........ estimator__C=10, estimator__kernel=linear, total=  46.2s\n",
      "[CV] estimator__C=10, estimator__kernel=linear .......................\n",
      "[CV] ........ estimator__C=10, estimator__kernel=linear, total=  49.7s\n",
      "[CV] estimator__C=10, estimator__kernel=linear .......................\n",
      "[CV] ........ estimator__C=10, estimator__kernel=linear, total=  46.7s\n",
      "[CV] estimator__C=10, estimator__kernel=linear .......................\n",
      "[CV] ........ estimator__C=10, estimator__kernel=linear, total=  48.7s\n",
      "[CV] estimator__C=10, estimator__kernel=linear .......................\n",
      "[CV] ........ estimator__C=10, estimator__kernel=linear, total=  45.7s\n",
      "[CV] estimator__C=10, estimator__kernel=linear .......................\n",
      "[CV] ........ estimator__C=10, estimator__kernel=linear, total=  48.2s\n",
      "[CV] estimator__C=10, estimator__kernel=linear .......................\n",
      "[CV] ........ estimator__C=10, estimator__kernel=linear, total=  47.5s\n",
      "[CV] estimator__C=10, estimator__kernel=linear .......................\n",
      "[CV] ........ estimator__C=10, estimator__kernel=linear, total=  46.0s\n",
      "[CV] estimator__C=10, estimator__kernel=linear .......................\n",
      "[CV] ........ estimator__C=10, estimator__kernel=linear, total=  40.5s\n",
      "[CV] estimator__C=10, estimator__kernel=linear .......................\n",
      "[CV] ........ estimator__C=10, estimator__kernel=linear, total=  46.6s\n",
      "[CV] estimator__C=10, estimator__kernel=linear .......................\n",
      "[CV] ........ estimator__C=10, estimator__kernel=linear, total=  47.9s\n",
      "[CV] estimator__C=10, estimator__kernel=linear .......................\n",
      "[CV] ........ estimator__C=10, estimator__kernel=linear, total=  46.8s\n",
      "[CV] estimator__C=10, estimator__kernel=linear .......................\n",
      "[CV] ........ estimator__C=10, estimator__kernel=linear, total=  47.1s\n",
      "[CV] estimator__C=10, estimator__kernel=linear .......................\n",
      "[CV] ........ estimator__C=10, estimator__kernel=linear, total=  47.6s\n",
      "[CV] estimator__C=10, estimator__kernel=linear .......................\n",
      "[CV] ........ estimator__C=10, estimator__kernel=linear, total=  44.6s\n",
      "[CV] estimator__C=10, estimator__kernel=linear .......................\n",
      "[CV] ........ estimator__C=10, estimator__kernel=linear, total=  44.4s\n",
      "[CV] estimator__C=10, estimator__kernel=linear .......................\n",
      "[CV] ........ estimator__C=10, estimator__kernel=linear, total=  46.4s\n",
      "[CV] estimator__C=10, estimator__kernel=linear .......................\n",
      "[CV] ........ estimator__C=10, estimator__kernel=linear, total=  47.5s\n",
      "[CV] estimator__C=10, estimator__kernel=linear .......................\n",
      "[CV] ........ estimator__C=10, estimator__kernel=linear, total=  44.7s\n",
      "[CV] estimator__C=10, estimator__kernel=linear .......................\n",
      "[CV] ........ estimator__C=10, estimator__kernel=linear, total=  44.2s\n",
      "[CV] estimator__C=10, estimator__kernel=linear .......................\n",
      "[CV] ........ estimator__C=10, estimator__kernel=linear, total=  47.0s\n",
      "[CV] estimator__C=10, estimator__kernel=rbf ..........................\n",
      "[CV] ........... estimator__C=10, estimator__kernel=rbf, total= 1.1min\n",
      "[CV] estimator__C=10, estimator__kernel=rbf ..........................\n",
      "[CV] ........... estimator__C=10, estimator__kernel=rbf, total= 1.1min\n",
      "[CV] estimator__C=10, estimator__kernel=rbf ..........................\n",
      "[CV] ........... estimator__C=10, estimator__kernel=rbf, total= 1.1min\n",
      "[CV] estimator__C=10, estimator__kernel=rbf ..........................\n",
      "[CV] ........... estimator__C=10, estimator__kernel=rbf, total= 1.1min\n",
      "[CV] estimator__C=10, estimator__kernel=rbf ..........................\n",
      "[CV] ........... estimator__C=10, estimator__kernel=rbf, total= 1.1min\n",
      "[CV] estimator__C=10, estimator__kernel=rbf ..........................\n",
      "[CV] ........... estimator__C=10, estimator__kernel=rbf, total= 1.2min\n",
      "[CV] estimator__C=10, estimator__kernel=rbf ..........................\n",
      "[CV] ........... estimator__C=10, estimator__kernel=rbf, total= 1.2min\n",
      "[CV] estimator__C=10, estimator__kernel=rbf ..........................\n",
      "[CV] ........... estimator__C=10, estimator__kernel=rbf, total= 1.1min\n",
      "[CV] estimator__C=10, estimator__kernel=rbf ..........................\n",
      "[CV] ........... estimator__C=10, estimator__kernel=rbf, total= 1.0min\n",
      "[CV] estimator__C=10, estimator__kernel=rbf ..........................\n",
      "[CV] ........... estimator__C=10, estimator__kernel=rbf, total= 1.4min\n",
      "[CV] estimator__C=10, estimator__kernel=rbf ..........................\n",
      "[CV] ........... estimator__C=10, estimator__kernel=rbf, total= 1.1min\n",
      "[CV] estimator__C=10, estimator__kernel=rbf ..........................\n",
      "[CV] ........... estimator__C=10, estimator__kernel=rbf, total= 1.1min\n",
      "[CV] estimator__C=10, estimator__kernel=rbf ..........................\n",
      "[CV] ........... estimator__C=10, estimator__kernel=rbf, total= 1.1min\n",
      "[CV] estimator__C=10, estimator__kernel=rbf ..........................\n",
      "[CV] ........... estimator__C=10, estimator__kernel=rbf, total= 1.2min\n",
      "[CV] estimator__C=10, estimator__kernel=rbf ..........................\n",
      "[CV] ........... estimator__C=10, estimator__kernel=rbf, total= 1.1min\n",
      "[CV] estimator__C=10, estimator__kernel=rbf ..........................\n",
      "[CV] ........... estimator__C=10, estimator__kernel=rbf, total= 1.1min\n",
      "[CV] estimator__C=10, estimator__kernel=rbf ..........................\n",
      "[CV] ........... estimator__C=10, estimator__kernel=rbf, total= 1.3min\n",
      "[CV] estimator__C=10, estimator__kernel=rbf ..........................\n",
      "[CV] ........... estimator__C=10, estimator__kernel=rbf, total= 1.3min\n",
      "[CV] estimator__C=10, estimator__kernel=rbf ..........................\n",
      "[CV] ........... estimator__C=10, estimator__kernel=rbf, total= 1.3min\n",
      "[CV] estimator__C=10, estimator__kernel=rbf ..........................\n",
      "[CV] ........... estimator__C=10, estimator__kernel=rbf, total= 1.1min\n",
      "[CV] estimator__C=10, estimator__kernel=rbf ..........................\n",
      "[CV] ........... estimator__C=10, estimator__kernel=rbf, total= 1.2min\n"
     ]
    },
    {
     "name": "stderr",
     "output_type": "stream",
     "text": [
      "[Parallel(n_jobs=1)]: Done  84 out of  84 | elapsed: 114.4min finished\n"
     ]
    }
   ],
   "source": [
    "nTrainingSubjects = len(subject_train.subject_id.unique())\n",
    "groups = subject_train.subject_id\n",
    "\n",
    "\n",
    "param_grid = {\"estimator__C\": [1, 10],        \n",
    "              \"estimator__kernel\" : [\"linear\", \"rbf\"]\n",
    "              #\"estimator__gamma\": [1,0.1]\n",
    "             }\n",
    "\n",
    "gkf = GroupKFold(n_splits = nTrainingSubjects)\n",
    "grouped_cv = gkf.split(X_train, y_train, groups=groups)\n",
    "\n",
    "clf_cross_validated = GridSearchCV(OneVsRestClassifier(SVC(probability=True)),param_grid, refit=True,verbose=2, cv = grouped_cv, scoring=\"accuracy\", return_train_score=True)\n",
    "cross_validated_SVM_result = clf_cross_validated.fit(X_train, y_train.values)"
   ]
  },
  {
   "cell_type": "code",
   "execution_count": 7,
   "metadata": {
    "colab": {
     "base_uri": "https://localhost:8080/",
     "height": 134
    },
    "colab_type": "code",
    "id": "CjN_y3mh3bCn",
    "outputId": "f4deed22-16ec-490a-9549-a0f503d78abb"
   },
   "outputs": [
    {
     "data": {
      "text/plain": [
       "OneVsRestClassifier(estimator=SVC(C=10, break_ties=False, cache_size=200,\n",
       "                                  class_weight=None, coef0=0.0,\n",
       "                                  decision_function_shape='ovr', degree=3,\n",
       "                                  gamma='scale', kernel='rbf', max_iter=-1,\n",
       "                                  probability=True, random_state=None,\n",
       "                                  shrinking=True, tol=0.001, verbose=False),\n",
       "                    n_jobs=None)"
      ]
     },
     "execution_count": 7,
     "metadata": {
      "tags": []
     },
     "output_type": "execute_result"
    }
   ],
   "source": [
    "cross_validated_SVM_result.best_estimator_"
   ]
  },
  {
   "cell_type": "code",
   "execution_count": 8,
   "metadata": {
    "colab": {
     "base_uri": "https://localhost:8080/",
     "height": 252
    },
    "colab_type": "code",
    "id": "skegXBZ9ksWf",
    "outputId": "33710401-b506-4861-807f-eff6ec40b498"
   },
   "outputs": [
    {
     "name": "stdout",
     "output_type": "stream",
     "text": [
      "              precision    recall  f1-score   support\n",
      "\n",
      "           1       0.96      0.99      0.97       496\n",
      "           2       0.96      0.97      0.96       471\n",
      "           3       1.00      0.96      0.98       420\n",
      "           4       0.98      0.89      0.93       491\n",
      "           5       0.91      0.98      0.94       532\n",
      "           6       1.00      1.00      1.00       537\n",
      "\n",
      "    accuracy                           0.96      2947\n",
      "   macro avg       0.97      0.96      0.96      2947\n",
      "weighted avg       0.97      0.96      0.96      2947\n",
      "\n",
      "The total accuracy is 0.9647098744485918\n"
     ]
    }
   ],
   "source": [
    "cv_prediction_svm = cross_validated_SVM_result.predict(X_test)\n",
    "print (classification_report(y_test, cv_prediction_svm))\n",
    "accuracy_svm_cv = classification_report(y_test, cv_prediction_svm, output_dict=True)[\"accuracy\"]\n",
    "print (\"The total accuracy is {}\".format(accuracy_svm_cv))"
   ]
  },
  {
   "cell_type": "code",
   "execution_count": 9,
   "metadata": {
    "colab": {
     "base_uri": "https://localhost:8080/",
     "height": 166
    },
    "colab_type": "code",
    "id": "U3SQfXty_-m5",
    "outputId": "f380c5ed-c4a1-4fb7-b306-d46a5d9471f6"
   },
   "outputs": [
    {
     "data": {
      "text/html": [
       "<div>\n",
       "<style scoped>\n",
       "    .dataframe tbody tr th:only-of-type {\n",
       "        vertical-align: middle;\n",
       "    }\n",
       "\n",
       "    .dataframe tbody tr th {\n",
       "        vertical-align: top;\n",
       "    }\n",
       "\n",
       "    .dataframe thead th {\n",
       "        text-align: right;\n",
       "    }\n",
       "</style>\n",
       "<table border=\"1\" class=\"dataframe\">\n",
       "  <thead>\n",
       "    <tr style=\"text-align: right;\">\n",
       "      <th></th>\n",
       "      <th>estimator__C</th>\n",
       "      <th>estimator__kernel</th>\n",
       "      <th>mean_train_score</th>\n",
       "      <th>mean_test_score</th>\n",
       "      <th>std_train_score</th>\n",
       "      <th>std_test_score</th>\n",
       "    </tr>\n",
       "  </thead>\n",
       "  <tbody>\n",
       "    <tr>\n",
       "      <th>0</th>\n",
       "      <td>1</td>\n",
       "      <td>linear</td>\n",
       "      <td>0.993982</td>\n",
       "      <td>0.940474</td>\n",
       "      <td>0.000909</td>\n",
       "      <td>0.072700</td>\n",
       "    </tr>\n",
       "    <tr>\n",
       "      <th>1</th>\n",
       "      <td>1</td>\n",
       "      <td>rbf</td>\n",
       "      <td>0.978216</td>\n",
       "      <td>0.939081</td>\n",
       "      <td>0.001159</td>\n",
       "      <td>0.063323</td>\n",
       "    </tr>\n",
       "    <tr>\n",
       "      <th>2</th>\n",
       "      <td>10</td>\n",
       "      <td>linear</td>\n",
       "      <td>0.996906</td>\n",
       "      <td>0.935198</td>\n",
       "      <td>0.000749</td>\n",
       "      <td>0.075373</td>\n",
       "    </tr>\n",
       "    <tr>\n",
       "      <th>3</th>\n",
       "      <td>10</td>\n",
       "      <td>rbf</td>\n",
       "      <td>0.994035</td>\n",
       "      <td>0.949807</td>\n",
       "      <td>0.000731</td>\n",
       "      <td>0.057732</td>\n",
       "    </tr>\n",
       "  </tbody>\n",
       "</table>\n",
       "</div>"
      ],
      "text/plain": [
       "   estimator__C estimator__kernel  ...  std_train_score  std_test_score\n",
       "0             1            linear  ...         0.000909        0.072700\n",
       "1             1               rbf  ...         0.001159        0.063323\n",
       "2            10            linear  ...         0.000749        0.075373\n",
       "3            10               rbf  ...         0.000731        0.057732\n",
       "\n",
       "[4 rows x 6 columns]"
      ]
     },
     "execution_count": 9,
     "metadata": {
      "tags": []
     },
     "output_type": "execute_result"
    }
   ],
   "source": [
    "cv_svm_results_df = pd.concat([pd.DataFrame(cross_validated_SVM_result.cv_results_[\"params\"]),\n",
    "           pd.DataFrame(cross_validated_SVM_result.cv_results_[\"mean_train_score\"],columns=[\"mean_train_score\"]), pd.DataFrame(cross_validated_SVM_result.cv_results_[\"mean_test_score\"],columns=[\"mean_test_score\"]),\n",
    "          pd.DataFrame(cross_validated_SVM_result.cv_results_[\"std_train_score\"],columns=[\"std_train_score\"]), pd.DataFrame(cross_validated_SVM_result.cv_results_[\"std_test_score\"],columns=[\"std_test_score\"])],\n",
    "          axis=1)\n",
    "\n",
    "cv_svm_results_df"
   ]
  },
  {
   "cell_type": "markdown",
   "metadata": {
    "colab_type": "text",
    "id": "bwTcYmHbeS3k"
   },
   "source": [
    "### ROC and Precision-Recall Curve"
   ]
  },
  {
   "cell_type": "code",
   "execution_count": 10,
   "metadata": {
    "colab": {
     "base_uri": "https://localhost:8080/",
     "height": 235
    },
    "colab_type": "code",
    "id": "lesKh2GueiNh",
    "outputId": "29742396-2eb9-4afa-923a-34e527b75629"
   },
   "outputs": [
    {
     "data": {
      "text/plain": [
       "array([[9.99573828e-08, 3.41059761e-06, 1.03143155e-04, 7.45585968e-05,\n",
       "        9.99573721e-01, 2.45066480e-04],\n",
       "       [9.94533984e-08, 1.32675164e-07, 3.10790925e-07, 1.03539435e-02,\n",
       "        9.89625278e-01, 2.02358024e-05],\n",
       "       [1.00050032e-07, 1.00050032e-07, 3.89821214e-06, 3.86167916e-03,\n",
       "        9.96131266e-01, 2.95664278e-06],\n",
       "       ...,\n",
       "       [1.40618791e-04, 9.99707731e-01, 9.00336400e-06, 9.47783603e-06,\n",
       "        7.95756921e-06, 1.25210951e-04],\n",
       "       [4.68913255e-04, 9.99253661e-01, 4.52350545e-05, 1.65041142e-04,\n",
       "        2.38490850e-06, 6.47646587e-05],\n",
       "       [3.34045822e-02, 9.66439521e-01, 3.78748876e-05, 2.07126810e-05,\n",
       "        1.97880267e-05, 7.75207666e-05]])"
      ]
     },
     "execution_count": 10,
     "metadata": {
      "tags": []
     },
     "output_type": "execute_result"
    }
   ],
   "source": [
    "svm_cv_prob = cross_validated_SVM_result.predict_proba(X_test)\n",
    "svm_cv_prob"
   ]
  },
  {
   "cell_type": "code",
   "execution_count": 65,
   "metadata": {
    "colab": {
     "base_uri": "https://localhost:8080/",
     "height": 557
    },
    "colab_type": "code",
    "id": "_V6DYJmnV1gQ",
    "outputId": "e5c2527b-921f-4fdb-a753-e92c1c83790d"
   },
   "outputs": [
    {
     "data": {
      "image/png": "[encoded data removed]",
      "text/plain": [
       "<Figure size 1440x576 with 2 Axes>"
      ]
     },
     "metadata": {
      "needs_background": "light",
      "tags": []
     },
     "output_type": "display_data"
    }
   ],
   "source": [
    "fpr = dict()\n",
    "tpr = dict()\n",
    "\n",
    "precision = dict()\n",
    "recall = dict()\n",
    "\n",
    "plt.figure(figsize=(20, 8))\n",
    "\n",
    "plt.subplot(1,2,1)\n",
    "for i in range(6):\n",
    "    fpr[i], tpr[i], _ = roc_curve(pd.get_dummies(test_labels[0]).values[:, i], svm_cv_prob[:, i])\n",
    "    plt.plot(fpr[i], tpr[i], lw=2, label='{}'.format(activity_labels.iloc[i].activity_name))\n",
    "    plt.xlabel(\"false positive rate\")\n",
    "    plt.ylabel(\"true positive rate\")\n",
    "    plt.legend(loc=\"best\")\n",
    "    plt.title(\"ROC curve for cross validated result\", fontweight='bold')\n",
    "\n",
    "plt.subplot(1,2,2)\n",
    "for i in range(6):\n",
    "    precision[i], recall[i], _ = precision_recall_curve(pd.get_dummies(test_labels[0]).values[:, i], svm_cv_prob[:, i])\n",
    "    plt.plot(recall[i], precision[i], lw=2, label='{}'.format(activity_labels.iloc[i].activity_name))\n",
    "    plt.xlabel(\"Recall\")\n",
    "    plt.ylabel(\"Precision\")\n",
    "    plt.legend(loc=\"best\")\n",
    "    plt.title(\"Precision - Recall curve for cross validated result\", fontweight='bold')\n",
    "plt.suptitle(\"Support Vector Machine Cross validation\", fontsize=15, fontweight='bold')\n",
    "plt.show()"
   ]
  },
  {
   "cell_type": "markdown",
   "metadata": {
    "colab_type": "text",
    "id": "lWovy6pBBNCm"
   },
   "source": [
    "## **3 Classification prediction using Random Forest model** [12]"
   ]
  },
  {
   "cell_type": "markdown",
   "metadata": {
    "colab_type": "text",
    "id": "-tv0HKJ-BXsk"
   },
   "source": [
    "### **3.1 Using Simple Train-test split method**"
   ]
  },
  {
   "cell_type": "code",
   "execution_count": 13,
   "metadata": {
    "colab": {
     "base_uri": "https://localhost:8080/",
     "height": 218
    },
    "colab_type": "code",
    "id": "s25cRbnLBTBQ",
    "outputId": "50ef81be-c1a5-4c25-a4b2-b17ea0aa3857"
   },
   "outputs": [
    {
     "name": "stderr",
     "output_type": "stream",
     "text": [
      "/usr/local/lib/python3.6/dist-packages/ipykernel_launcher.py:2: DataConversionWarning:\n",
      "\n",
      "A column-vector y was passed when a 1d array was expected. Please change the shape of y to (n_samples,), for example using ravel().\n",
      "\n"
     ]
    },
    {
     "data": {
      "text/plain": [
       "RandomForestClassifier(bootstrap=True, ccp_alpha=0.0, class_weight=None,\n",
       "                       criterion='gini', max_depth=None, max_features='auto',\n",
       "                       max_leaf_nodes=None, max_samples=None,\n",
       "                       min_impurity_decrease=0.0, min_impurity_split=None,\n",
       "                       min_samples_leaf=1, min_samples_split=2,\n",
       "                       min_weight_fraction_leaf=0.0, n_estimators=100,\n",
       "                       n_jobs=None, oob_score=False, random_state=None,\n",
       "                       verbose=0, warm_start=False)"
      ]
     },
     "execution_count": 13,
     "metadata": {
      "tags": []
     },
     "output_type": "execute_result"
    }
   ],
   "source": [
    "clf_randforest=RandomForestClassifier(n_estimators=100)\n",
    "clf_randforest.fit(X_train,y_train.values)"
   ]
  },
  {
   "cell_type": "code",
   "execution_count": 15,
   "metadata": {
    "colab": {
     "base_uri": "https://localhost:8080/",
     "height": 34
    },
    "colab_type": "code",
    "id": "Jo-eevw4Bska",
    "outputId": "462e78bf-04f8-4ed5-d3c6-183f0af87413"
   },
   "outputs": [
    {
     "data": {
      "text/plain": [
       "array([5, 5, 5, ..., 2, 2, 1])"
      ]
     },
     "execution_count": 15,
     "metadata": {
      "tags": []
     },
     "output_type": "execute_result"
    }
   ],
   "source": [
    "random_forest_predicted = clf_randforest.predict(X_test)\n",
    "random_forest_predicted"
   ]
  },
  {
   "cell_type": "code",
   "execution_count": 16,
   "metadata": {
    "colab": {
     "base_uri": "https://localhost:8080/",
     "height": 252
    },
    "colab_type": "code",
    "id": "Npaet3fSBwFa",
    "outputId": "1f5ccc80-b98c-4dcc-e2b3-94e0650c8a9b"
   },
   "outputs": [
    {
     "name": "stdout",
     "output_type": "stream",
     "text": [
      "              precision    recall  f1-score   support\n",
      "\n",
      "           1       0.89      0.97      0.93       496\n",
      "           2       0.90      0.91      0.90       471\n",
      "           3       0.96      0.84      0.90       420\n",
      "           4       0.90      0.90      0.90       491\n",
      "           5       0.90      0.91      0.91       532\n",
      "           6       1.00      1.00      1.00       537\n",
      "\n",
      "    accuracy                           0.92      2947\n",
      "   macro avg       0.93      0.92      0.92      2947\n",
      "weighted avg       0.93      0.92      0.92      2947\n",
      "\n",
      "The total accuracy is 0.9243298269426535\n"
     ]
    }
   ],
   "source": [
    "print (classification_report(y_test, random_forest_predicted))\n",
    "accuracy_randforest = classification_report(y_test, random_forest_predicted, output_dict=True)[\"accuracy\"]\n",
    "print (\"The total accuracy is {}\".format(accuracy_randforest))"
   ]
  },
  {
   "cell_type": "code",
   "execution_count": 49,
   "metadata": {
    "colab": {
     "base_uri": "https://localhost:8080/",
     "height": 134
    },
    "colab_type": "code",
    "id": "F_J4SXReGHCI",
    "outputId": "ccad13cc-5fdd-4624-ac95-6d8fc5bae42d"
   },
   "outputs": [
    {
     "data": {
      "text/plain": [
       "array([[0.  , 0.  , 0.  , 0.13, 0.86, 0.01],\n",
       "       [0.  , 0.  , 0.  , 0.13, 0.87, 0.  ],\n",
       "       [0.  , 0.  , 0.  , 0.16, 0.84, 0.  ],\n",
       "       ...,\n",
       "       [0.26, 0.68, 0.06, 0.  , 0.  , 0.  ],\n",
       "       [0.36, 0.46, 0.18, 0.  , 0.  , 0.  ],\n",
       "       [0.45, 0.39, 0.16, 0.  , 0.  , 0.  ]])"
      ]
     },
     "execution_count": 49,
     "metadata": {
      "tags": []
     },
     "output_type": "execute_result"
    }
   ],
   "source": [
    "randforest_traditional_prob = clf_randforest.predict_proba(X_test)\n",
    "randforest_traditional_prob\n"
   ]
  },
  {
   "cell_type": "code",
   "execution_count": 67,
   "metadata": {
    "colab": {
     "base_uri": "https://localhost:8080/",
     "height": 557
    },
    "colab_type": "code",
    "id": "upaLeEpJcxB-",
    "outputId": "1b64a3b5-cb9c-4447-b53b-b2cf340abf15"
   },
   "outputs": [
    {
     "data": {
      "image/png": "[encoded data removed]",
      "text/plain": [
       "<Figure size 1440x576 with 2 Axes>"
      ]
     },
     "metadata": {
      "needs_background": "light",
      "tags": []
     },
     "output_type": "display_data"
    }
   ],
   "source": [
    "fpr = dict()\n",
    "tpr = dict()\n",
    "precision = dict()\n",
    "recall = dict()\n",
    "\n",
    "\n",
    "plt.figure(figsize=(20, 8))\n",
    "plt.rcParams['axes.labelweight'] = 'bold'\n",
    "plt.rcParams['axes.labelsize'] = 12\n",
    "\n",
    "plt.subplot(1,2,1)\n",
    "for i in range(6):\n",
    "    fpr[i], tpr[i], _ = roc_curve(pd.get_dummies(test_labels[0]).values[:, i], randforest_traditional_prob[:, i])\n",
    "    plt.plot(fpr[i], tpr[i], lw=2, label='{}'.format(activity_labels.iloc[i].activity_name))\n",
    "    plt.xlabel(\"false positive rate\")\n",
    "    plt.ylabel(\"true positive rate\")\n",
    "    plt.legend(loc=\"best\")\n",
    "    plt.title(\"ROC curve\", fontweight='bold')\n",
    "\n",
    "\n",
    "plt.subplot(1,2,2)\n",
    "\n",
    "for i in range(6):\n",
    "    precision[i], recall[i], _ = precision_recall_curve(pd.get_dummies(test_labels[0]).values[:, i], randforest_traditional_prob[:, i])\n",
    "    plt.plot(recall[i], precision[i], lw=2, label='{}'.format(activity_labels.iloc[i].activity_name))\n",
    "    plt.xlabel(\"Recall\")\n",
    "    plt.ylabel(\"Precision\")\n",
    "    plt.legend(loc=\"best\")\n",
    "    plt.title(\"Precision-Recall curve\", fontweight='bold')\n",
    "    \n",
    "plt.suptitle(\"Random Forest\", fontsize=15, fontweight='bold')\n",
    "\n",
    "plt.show()\n",
    "\n",
    "\n",
    "\n",
    "### It can be seen that the area under the curve for ROC curve is more (the true positive rate can ve achieved close to 0.9 with almost no false postive rate).\n",
    "### "
   ]
  },
  {
   "cell_type": "markdown",
   "metadata": {
    "colab_type": "text",
    "id": "CaUKYoHyCBZm"
   },
   "source": [
    "### **3.2 Using Grouped cross validation**"
   ]
  },
  {
   "cell_type": "code",
   "execution_count": 21,
   "metadata": {
    "colab": {
     "base_uri": "https://localhost:8080/",
     "height": 1000
    },
    "colab_type": "code",
    "id": "Uz-FrF6aBS-6",
    "outputId": "a2833423-0f3b-448c-a108-684c2395eda2"
   },
   "outputs": [
    {
     "name": "stdout",
     "output_type": "stream",
     "text": [
      "Fitting 21 folds for each of 6 candidates, totalling 126 fits\n",
      "[CV] criterion=gini, n_estimators=60 .................................\n"
     ]
    },
    {
     "name": "stderr",
     "output_type": "stream",
     "text": [
      "[Parallel(n_jobs=1)]: Using backend SequentialBackend with 1 concurrent workers.\n",
      "/usr/local/lib/python3.6/dist-packages/sklearn/model_selection/_validation.py:515: DataConversionWarning:\n",
      "\n",
      "A column-vector y was passed when a 1d array was expected. Please change the shape of y to (n_samples,), for example using ravel().\n",
      "\n"
     ]
    },
    {
     "name": "stdout",
     "output_type": "stream",
     "text": [
      "[CV] .................. criterion=gini, n_estimators=60, total=   6.3s\n",
      "[CV] criterion=gini, n_estimators=60 .................................\n"
     ]
    },
    {
     "name": "stderr",
     "output_type": "stream",
     "text": [
      "[Parallel(n_jobs=1)]: Done   1 out of   1 | elapsed:    6.4s remaining:    0.0s\n",
      "/usr/local/lib/python3.6/dist-packages/sklearn/model_selection/_validation.py:515: DataConversionWarning:\n",
      "\n",
      "A column-vector y was passed when a 1d array was expected. Please change the shape of y to (n_samples,), for example using ravel().\n",
      "\n"
     ]
    },
    {
     "name": "stdout",
     "output_type": "stream",
     "text": [
      "[CV] .................. criterion=gini, n_estimators=60, total=   6.0s\n",
      "[CV] criterion=gini, n_estimators=60 .................................\n"
     ]
    },
    {
     "name": "stderr",
     "output_type": "stream",
     "text": [
      "/usr/local/lib/python3.6/dist-packages/sklearn/model_selection/_validation.py:515: DataConversionWarning:\n",
      "\n",
      "A column-vector y was passed when a 1d array was expected. Please change the shape of y to (n_samples,), for example using ravel().\n",
      "\n"
     ]
    },
    {
     "name": "stdout",
     "output_type": "stream",
     "text": [
      "[CV] .................. criterion=gini, n_estimators=60, total=   6.1s\n",
      "[CV] criterion=gini, n_estimators=60 .................................\n"
     ]
    },
    {
     "name": "stderr",
     "output_type": "stream",
     "text": [
      "/usr/local/lib/python3.6/dist-packages/sklearn/model_selection/_validation.py:515: DataConversionWarning:\n",
      "\n",
      "A column-vector y was passed when a 1d array was expected. Please change the shape of y to (n_samples,), for example using ravel().\n",
      "\n"
     ]
    },
    {
     "name": "stdout",
     "output_type": "stream",
     "text": [
      "[CV] .................. criterion=gini, n_estimators=60, total=   6.2s\n",
      "[CV] criterion=gini, n_estimators=60 .................................\n"
     ]
    },
    {
     "name": "stderr",
     "output_type": "stream",
     "text": [
      "/usr/local/lib/python3.6/dist-packages/sklearn/model_selection/_validation.py:515: DataConversionWarning:\n",
      "\n",
      "A column-vector y was passed when a 1d array was expected. Please change the shape of y to (n_samples,), for example using ravel().\n",
      "\n"
     ]
    },
    {
     "name": "stdout",
     "output_type": "stream",
     "text": [
      "[CV] .................. criterion=gini, n_estimators=60, total=   6.3s\n",
      "[CV] criterion=gini, n_estimators=60 .................................\n"
     ]
    },
    {
     "name": "stderr",
     "output_type": "stream",
     "text": [
      "/usr/local/lib/python3.6/dist-packages/sklearn/model_selection/_validation.py:515: DataConversionWarning:\n",
      "\n",
      "A column-vector y was passed when a 1d array was expected. Please change the shape of y to (n_samples,), for example using ravel().\n",
      "\n"
     ]
    },
    {
     "name": "stdout",
     "output_type": "stream",
     "text": [
      "[CV] .................. criterion=gini, n_estimators=60, total=   6.3s\n",
      "[CV] criterion=gini, n_estimators=60 .................................\n"
     ]
    },
    {
     "name": "stderr",
     "output_type": "stream",
     "text": [
      "/usr/local/lib/python3.6/dist-packages/sklearn/model_selection/_validation.py:515: DataConversionWarning:\n",
      "\n",
      "A column-vector y was passed when a 1d array was expected. Please change the shape of y to (n_samples,), for example using ravel().\n",
      "\n"
     ]
    },
    {
     "name": "stdout",
     "output_type": "stream",
     "text": [
      "[CV] .................. criterion=gini, n_estimators=60, total=   6.3s\n",
      "[CV] criterion=gini, n_estimators=60 .................................\n"
     ]
    },
    {
     "name": "stderr",
     "output_type": "stream",
     "text": [
      "/usr/local/lib/python3.6/dist-packages/sklearn/model_selection/_validation.py:515: DataConversionWarning:\n",
      "\n",
      "A column-vector y was passed when a 1d array was expected. Please change the shape of y to (n_samples,), for example using ravel().\n",
      "\n"
     ]
    },
    {
     "name": "stdout",
     "output_type": "stream",
     "text": [
      "[CV] .................. criterion=gini, n_estimators=60, total=   6.2s\n",
      "[CV] criterion=gini, n_estimators=60 .................................\n"
     ]
    },
    {
     "name": "stderr",
     "output_type": "stream",
     "text": [
      "/usr/local/lib/python3.6/dist-packages/sklearn/model_selection/_validation.py:515: DataConversionWarning:\n",
      "\n",
      "A column-vector y was passed when a 1d array was expected. Please change the shape of y to (n_samples,), for example using ravel().\n",
      "\n"
     ]
    },
    {
     "name": "stdout",
     "output_type": "stream",
     "text": [
      "[CV] .................. criterion=gini, n_estimators=60, total=   6.1s\n",
      "[CV] criterion=gini, n_estimators=60 .................................\n"
     ]
    },
    {
     "name": "stderr",
     "output_type": "stream",
     "text": [
      "/usr/local/lib/python3.6/dist-packages/sklearn/model_selection/_validation.py:515: DataConversionWarning:\n",
      "\n",
      "A column-vector y was passed when a 1d array was expected. Please change the shape of y to (n_samples,), for example using ravel().\n",
      "\n"
     ]
    },
    {
     "name": "stdout",
     "output_type": "stream",
     "text": [
      "[CV] .................. criterion=gini, n_estimators=60, total=   6.1s\n",
      "[CV] criterion=gini, n_estimators=60 .................................\n"
     ]
    },
    {
     "name": "stderr",
     "output_type": "stream",
     "text": [
      "/usr/local/lib/python3.6/dist-packages/sklearn/model_selection/_validation.py:515: DataConversionWarning:\n",
      "\n",
      "A column-vector y was passed when a 1d array was expected. Please change the shape of y to (n_samples,), for example using ravel().\n",
      "\n"
     ]
    },
    {
     "name": "stdout",
     "output_type": "stream",
     "text": [
      "[CV] .................. criterion=gini, n_estimators=60, total=   6.0s\n",
      "[CV] criterion=gini, n_estimators=60 .................................\n"
     ]
    },
    {
     "name": "stderr",
     "output_type": "stream",
     "text": [
      "/usr/local/lib/python3.6/dist-packages/sklearn/model_selection/_validation.py:515: DataConversionWarning:\n",
      "\n",
      "A column-vector y was passed when a 1d array was expected. Please change the shape of y to (n_samples,), for example using ravel().\n",
      "\n"
     ]
    },
    {
     "name": "stdout",
     "output_type": "stream",
     "text": [
      "[CV] .................. criterion=gini, n_estimators=60, total=   6.1s\n",
      "[CV] criterion=gini, n_estimators=60 .................................\n"
     ]
    },
    {
     "name": "stderr",
     "output_type": "stream",
     "text": [
      "/usr/local/lib/python3.6/dist-packages/sklearn/model_selection/_validation.py:515: DataConversionWarning:\n",
      "\n",
      "A column-vector y was passed when a 1d array was expected. Please change the shape of y to (n_samples,), for example using ravel().\n",
      "\n"
     ]
    },
    {
     "name": "stdout",
     "output_type": "stream",
     "text": [
      "[CV] .................. criterion=gini, n_estimators=60, total=   6.1s\n",
      "[CV] criterion=gini, n_estimators=60 .................................\n"
     ]
    },
    {
     "name": "stderr",
     "output_type": "stream",
     "text": [
      "/usr/local/lib/python3.6/dist-packages/sklearn/model_selection/_validation.py:515: DataConversionWarning:\n",
      "\n",
      "A column-vector y was passed when a 1d array was expected. Please change the shape of y to (n_samples,), for example using ravel().\n",
      "\n"
     ]
    },
    {
     "name": "stdout",
     "output_type": "stream",
     "text": [
      "[CV] .................. criterion=gini, n_estimators=60, total=   6.2s\n",
      "[CV] criterion=gini, n_estimators=60 .................................\n"
     ]
    },
    {
     "name": "stderr",
     "output_type": "stream",
     "text": [
      "/usr/local/lib/python3.6/dist-packages/sklearn/model_selection/_validation.py:515: DataConversionWarning:\n",
      "\n",
      "A column-vector y was passed when a 1d array was expected. Please change the shape of y to (n_samples,), for example using ravel().\n",
      "\n"
     ]
    },
    {
     "name": "stdout",
     "output_type": "stream",
     "text": [
      "[CV] .................. criterion=gini, n_estimators=60, total=   6.2s\n",
      "[CV] criterion=gini, n_estimators=60 .................................\n"
     ]
    },
    {
     "name": "stderr",
     "output_type": "stream",
     "text": [
      "/usr/local/lib/python3.6/dist-packages/sklearn/model_selection/_validation.py:515: DataConversionWarning:\n",
      "\n",
      "A column-vector y was passed when a 1d array was expected. Please change the shape of y to (n_samples,), for example using ravel().\n",
      "\n"
     ]
    },
    {
     "name": "stdout",
     "output_type": "stream",
     "text": [
      "[CV] .................. criterion=gini, n_estimators=60, total=   6.1s\n",
      "[CV] criterion=gini, n_estimators=60 .................................\n"
     ]
    },
    {
     "name": "stderr",
     "output_type": "stream",
     "text": [
      "/usr/local/lib/python3.6/dist-packages/sklearn/model_selection/_validation.py:515: DataConversionWarning:\n",
      "\n",
      "A column-vector y was passed when a 1d array was expected. Please change the shape of y to (n_samples,), for example using ravel().\n",
      "\n"
     ]
    },
    {
     "name": "stdout",
     "output_type": "stream",
     "text": [
      "[CV] .................. criterion=gini, n_estimators=60, total=   6.2s\n",
      "[CV] criterion=gini, n_estimators=60 .................................\n"
     ]
    },
    {
     "name": "stderr",
     "output_type": "stream",
     "text": [
      "/usr/local/lib/python3.6/dist-packages/sklearn/model_selection/_validation.py:515: DataConversionWarning:\n",
      "\n",
      "A column-vector y was passed when a 1d array was expected. Please change the shape of y to (n_samples,), for example using ravel().\n",
      "\n"
     ]
    },
    {
     "name": "stdout",
     "output_type": "stream",
     "text": [
      "[CV] .................. criterion=gini, n_estimators=60, total=   6.3s\n",
      "[CV] criterion=gini, n_estimators=60 .................................\n"
     ]
    },
    {
     "name": "stderr",
     "output_type": "stream",
     "text": [
      "/usr/local/lib/python3.6/dist-packages/sklearn/model_selection/_validation.py:515: DataConversionWarning:\n",
      "\n",
      "A column-vector y was passed when a 1d array was expected. Please change the shape of y to (n_samples,), for example using ravel().\n",
      "\n"
     ]
    },
    {
     "name": "stdout",
     "output_type": "stream",
     "text": [
      "[CV] .................. criterion=gini, n_estimators=60, total=   6.3s\n",
      "[CV] criterion=gini, n_estimators=60 .................................\n"
     ]
    },
    {
     "name": "stderr",
     "output_type": "stream",
     "text": [
      "/usr/local/lib/python3.6/dist-packages/sklearn/model_selection/_validation.py:515: DataConversionWarning:\n",
      "\n",
      "A column-vector y was passed when a 1d array was expected. Please change the shape of y to (n_samples,), for example using ravel().\n",
      "\n"
     ]
    },
    {
     "name": "stdout",
     "output_type": "stream",
     "text": [
      "[CV] .................. criterion=gini, n_estimators=60, total=   6.2s\n",
      "[CV] criterion=gini, n_estimators=60 .................................\n"
     ]
    },
    {
     "name": "stderr",
     "output_type": "stream",
     "text": [
      "/usr/local/lib/python3.6/dist-packages/sklearn/model_selection/_validation.py:515: DataConversionWarning:\n",
      "\n",
      "A column-vector y was passed when a 1d array was expected. Please change the shape of y to (n_samples,), for example using ravel().\n",
      "\n"
     ]
    },
    {
     "name": "stdout",
     "output_type": "stream",
     "text": [
      "[CV] .................. criterion=gini, n_estimators=60, total=   6.3s\n",
      "[CV] criterion=gini, n_estimators=100 ................................\n"
     ]
    },
    {
     "name": "stderr",
     "output_type": "stream",
     "text": [
      "/usr/local/lib/python3.6/dist-packages/sklearn/model_selection/_validation.py:515: DataConversionWarning:\n",
      "\n",
      "A column-vector y was passed when a 1d array was expected. Please change the shape of y to (n_samples,), for example using ravel().\n",
      "\n"
     ]
    },
    {
     "name": "stdout",
     "output_type": "stream",
     "text": [
      "[CV] ................. criterion=gini, n_estimators=100, total=  10.1s\n",
      "[CV] criterion=gini, n_estimators=100 ................................\n"
     ]
    },
    {
     "name": "stderr",
     "output_type": "stream",
     "text": [
      "/usr/local/lib/python3.6/dist-packages/sklearn/model_selection/_validation.py:515: DataConversionWarning:\n",
      "\n",
      "A column-vector y was passed when a 1d array was expected. Please change the shape of y to (n_samples,), for example using ravel().\n",
      "\n"
     ]
    },
    {
     "name": "stdout",
     "output_type": "stream",
     "text": [
      "[CV] ................. criterion=gini, n_estimators=100, total=  10.3s\n",
      "[CV] criterion=gini, n_estimators=100 ................................\n"
     ]
    },
    {
     "name": "stderr",
     "output_type": "stream",
     "text": [
      "/usr/local/lib/python3.6/dist-packages/sklearn/model_selection/_validation.py:515: DataConversionWarning:\n",
      "\n",
      "A column-vector y was passed when a 1d array was expected. Please change the shape of y to (n_samples,), for example using ravel().\n",
      "\n"
     ]
    },
    {
     "name": "stdout",
     "output_type": "stream",
     "text": [
      "[CV] ................. criterion=gini, n_estimators=100, total=  10.2s\n",
      "[CV] criterion=gini, n_estimators=100 ................................\n"
     ]
    },
    {
     "name": "stderr",
     "output_type": "stream",
     "text": [
      "/usr/local/lib/python3.6/dist-packages/sklearn/model_selection/_validation.py:515: DataConversionWarning:\n",
      "\n",
      "A column-vector y was passed when a 1d array was expected. Please change the shape of y to (n_samples,), for example using ravel().\n",
      "\n"
     ]
    },
    {
     "name": "stdout",
     "output_type": "stream",
     "text": [
      "[CV] ................. criterion=gini, n_estimators=100, total=  10.1s\n",
      "[CV] criterion=gini, n_estimators=100 ................................\n"
     ]
    },
    {
     "name": "stderr",
     "output_type": "stream",
     "text": [
      "/usr/local/lib/python3.6/dist-packages/sklearn/model_selection/_validation.py:515: DataConversionWarning:\n",
      "\n",
      "A column-vector y was passed when a 1d array was expected. Please change the shape of y to (n_samples,), for example using ravel().\n",
      "\n"
     ]
    },
    {
     "name": "stdout",
     "output_type": "stream",
     "text": [
      "[CV] ................. criterion=gini, n_estimators=100, total=  10.2s\n",
      "[CV] criterion=gini, n_estimators=100 ................................\n"
     ]
    },
    {
     "name": "stderr",
     "output_type": "stream",
     "text": [
      "/usr/local/lib/python3.6/dist-packages/sklearn/model_selection/_validation.py:515: DataConversionWarning:\n",
      "\n",
      "A column-vector y was passed when a 1d array was expected. Please change the shape of y to (n_samples,), for example using ravel().\n",
      "\n"
     ]
    },
    {
     "name": "stdout",
     "output_type": "stream",
     "text": [
      "[CV] ................. criterion=gini, n_estimators=100, total=  10.1s\n",
      "[CV] criterion=gini, n_estimators=100 ................................\n"
     ]
    },
    {
     "name": "stderr",
     "output_type": "stream",
     "text": [
      "/usr/local/lib/python3.6/dist-packages/sklearn/model_selection/_validation.py:515: DataConversionWarning:\n",
      "\n",
      "A column-vector y was passed when a 1d array was expected. Please change the shape of y to (n_samples,), for example using ravel().\n",
      "\n"
     ]
    },
    {
     "name": "stdout",
     "output_type": "stream",
     "text": [
      "[CV] ................. criterion=gini, n_estimators=100, total=  10.3s\n",
      "[CV] criterion=gini, n_estimators=100 ................................\n"
     ]
    },
    {
     "name": "stderr",
     "output_type": "stream",
     "text": [
      "/usr/local/lib/python3.6/dist-packages/sklearn/model_selection/_validation.py:515: DataConversionWarning:\n",
      "\n",
      "A column-vector y was passed when a 1d array was expected. Please change the shape of y to (n_samples,), for example using ravel().\n",
      "\n"
     ]
    },
    {
     "name": "stdout",
     "output_type": "stream",
     "text": [
      "[CV] ................. criterion=gini, n_estimators=100, total=  10.2s\n",
      "[CV] criterion=gini, n_estimators=100 ................................\n"
     ]
    },
    {
     "name": "stderr",
     "output_type": "stream",
     "text": [
      "/usr/local/lib/python3.6/dist-packages/sklearn/model_selection/_validation.py:515: DataConversionWarning:\n",
      "\n",
      "A column-vector y was passed when a 1d array was expected. Please change the shape of y to (n_samples,), for example using ravel().\n",
      "\n"
     ]
    },
    {
     "name": "stdout",
     "output_type": "stream",
     "text": [
      "[CV] ................. criterion=gini, n_estimators=100, total=  10.1s\n",
      "[CV] criterion=gini, n_estimators=100 ................................\n"
     ]
    },
    {
     "name": "stderr",
     "output_type": "stream",
     "text": [
      "/usr/local/lib/python3.6/dist-packages/sklearn/model_selection/_validation.py:515: DataConversionWarning:\n",
      "\n",
      "A column-vector y was passed when a 1d array was expected. Please change the shape of y to (n_samples,), for example using ravel().\n",
      "\n"
     ]
    },
    {
     "name": "stdout",
     "output_type": "stream",
     "text": [
      "[CV] ................. criterion=gini, n_estimators=100, total=  10.2s\n",
      "[CV] criterion=gini, n_estimators=100 ................................\n"
     ]
    },
    {
     "name": "stderr",
     "output_type": "stream",
     "text": [
      "/usr/local/lib/python3.6/dist-packages/sklearn/model_selection/_validation.py:515: DataConversionWarning:\n",
      "\n",
      "A column-vector y was passed when a 1d array was expected. Please change the shape of y to (n_samples,), for example using ravel().\n",
      "\n"
     ]
    },
    {
     "name": "stdout",
     "output_type": "stream",
     "text": [
      "[CV] ................. criterion=gini, n_estimators=100, total=  10.2s\n",
      "[CV] criterion=gini, n_estimators=100 ................................\n"
     ]
    },
    {
     "name": "stderr",
     "output_type": "stream",
     "text": [
      "/usr/local/lib/python3.6/dist-packages/sklearn/model_selection/_validation.py:515: DataConversionWarning:\n",
      "\n",
      "A column-vector y was passed when a 1d array was expected. Please change the shape of y to (n_samples,), for example using ravel().\n",
      "\n"
     ]
    },
    {
     "name": "stdout",
     "output_type": "stream",
     "text": [
      "[CV] ................. criterion=gini, n_estimators=100, total=  10.2s\n",
      "[CV] criterion=gini, n_estimators=100 ................................\n"
     ]
    },
    {
     "name": "stderr",
     "output_type": "stream",
     "text": [
      "/usr/local/lib/python3.6/dist-packages/sklearn/model_selection/_validation.py:515: DataConversionWarning:\n",
      "\n",
      "A column-vector y was passed when a 1d array was expected. Please change the shape of y to (n_samples,), for example using ravel().\n",
      "\n"
     ]
    },
    {
     "name": "stdout",
     "output_type": "stream",
     "text": [
      "[CV] ................. criterion=gini, n_estimators=100, total=  10.2s\n",
      "[CV] criterion=gini, n_estimators=100 ................................\n"
     ]
    },
    {
     "name": "stderr",
     "output_type": "stream",
     "text": [
      "/usr/local/lib/python3.6/dist-packages/sklearn/model_selection/_validation.py:515: DataConversionWarning:\n",
      "\n",
      "A column-vector y was passed when a 1d array was expected. Please change the shape of y to (n_samples,), for example using ravel().\n",
      "\n"
     ]
    },
    {
     "name": "stdout",
     "output_type": "stream",
     "text": [
      "[CV] ................. criterion=gini, n_estimators=100, total=  10.3s\n",
      "[CV] criterion=gini, n_estimators=100 ................................\n"
     ]
    },
    {
     "name": "stderr",
     "output_type": "stream",
     "text": [
      "/usr/local/lib/python3.6/dist-packages/sklearn/model_selection/_validation.py:515: DataConversionWarning:\n",
      "\n",
      "A column-vector y was passed when a 1d array was expected. Please change the shape of y to (n_samples,), for example using ravel().\n",
      "\n"
     ]
    },
    {
     "name": "stdout",
     "output_type": "stream",
     "text": [
      "[CV] ................. criterion=gini, n_estimators=100, total=  10.4s\n",
      "[CV] criterion=gini, n_estimators=100 ................................\n"
     ]
    },
    {
     "name": "stderr",
     "output_type": "stream",
     "text": [
      "/usr/local/lib/python3.6/dist-packages/sklearn/model_selection/_validation.py:515: DataConversionWarning:\n",
      "\n",
      "A column-vector y was passed when a 1d array was expected. Please change the shape of y to (n_samples,), for example using ravel().\n",
      "\n"
     ]
    },
    {
     "name": "stdout",
     "output_type": "stream",
     "text": [
      "[CV] ................. criterion=gini, n_estimators=100, total=  10.4s\n",
      "[CV] criterion=gini, n_estimators=100 ................................\n"
     ]
    },
    {
     "name": "stderr",
     "output_type": "stream",
     "text": [
      "/usr/local/lib/python3.6/dist-packages/sklearn/model_selection/_validation.py:515: DataConversionWarning:\n",
      "\n",
      "A column-vector y was passed when a 1d array was expected. Please change the shape of y to (n_samples,), for example using ravel().\n",
      "\n"
     ]
    },
    {
     "name": "stdout",
     "output_type": "stream",
     "text": [
      "[CV] ................. criterion=gini, n_estimators=100, total=  10.7s\n",
      "[CV] criterion=gini, n_estimators=100 ................................\n"
     ]
    },
    {
     "name": "stderr",
     "output_type": "stream",
     "text": [
      "/usr/local/lib/python3.6/dist-packages/sklearn/model_selection/_validation.py:515: DataConversionWarning:\n",
      "\n",
      "A column-vector y was passed when a 1d array was expected. Please change the shape of y to (n_samples,), for example using ravel().\n",
      "\n"
     ]
    },
    {
     "name": "stdout",
     "output_type": "stream",
     "text": [
      "[CV] ................. criterion=gini, n_estimators=100, total=  10.3s\n",
      "[CV] criterion=gini, n_estimators=100 ................................\n"
     ]
    },
    {
     "name": "stderr",
     "output_type": "stream",
     "text": [
      "/usr/local/lib/python3.6/dist-packages/sklearn/model_selection/_validation.py:515: DataConversionWarning:\n",
      "\n",
      "A column-vector y was passed when a 1d array was expected. Please change the shape of y to (n_samples,), for example using ravel().\n",
      "\n"
     ]
    },
    {
     "name": "stdout",
     "output_type": "stream",
     "text": [
      "[CV] ................. criterion=gini, n_estimators=100, total=  10.3s\n",
      "[CV] criterion=gini, n_estimators=100 ................................\n"
     ]
    },
    {
     "name": "stderr",
     "output_type": "stream",
     "text": [
      "/usr/local/lib/python3.6/dist-packages/sklearn/model_selection/_validation.py:515: DataConversionWarning:\n",
      "\n",
      "A column-vector y was passed when a 1d array was expected. Please change the shape of y to (n_samples,), for example using ravel().\n",
      "\n"
     ]
    },
    {
     "name": "stdout",
     "output_type": "stream",
     "text": [
      "[CV] ................. criterion=gini, n_estimators=100, total=  10.4s\n",
      "[CV] criterion=gini, n_estimators=100 ................................\n"
     ]
    },
    {
     "name": "stderr",
     "output_type": "stream",
     "text": [
      "/usr/local/lib/python3.6/dist-packages/sklearn/model_selection/_validation.py:515: DataConversionWarning:\n",
      "\n",
      "A column-vector y was passed when a 1d array was expected. Please change the shape of y to (n_samples,), for example using ravel().\n",
      "\n"
     ]
    },
    {
     "name": "stdout",
     "output_type": "stream",
     "text": [
      "[CV] ................. criterion=gini, n_estimators=100, total=  10.4s\n",
      "[CV] criterion=gini, n_estimators=150 ................................\n"
     ]
    },
    {
     "name": "stderr",
     "output_type": "stream",
     "text": [
      "/usr/local/lib/python3.6/dist-packages/sklearn/model_selection/_validation.py:515: DataConversionWarning:\n",
      "\n",
      "A column-vector y was passed when a 1d array was expected. Please change the shape of y to (n_samples,), for example using ravel().\n",
      "\n"
     ]
    },
    {
     "name": "stdout",
     "output_type": "stream",
     "text": [
      "[CV] ................. criterion=gini, n_estimators=150, total=  15.2s\n",
      "[CV] criterion=gini, n_estimators=150 ................................\n"
     ]
    },
    {
     "name": "stderr",
     "output_type": "stream",
     "text": [
      "/usr/local/lib/python3.6/dist-packages/sklearn/model_selection/_validation.py:515: DataConversionWarning:\n",
      "\n",
      "A column-vector y was passed when a 1d array was expected. Please change the shape of y to (n_samples,), for example using ravel().\n",
      "\n"
     ]
    },
    {
     "name": "stdout",
     "output_type": "stream",
     "text": [
      "[CV] ................. criterion=gini, n_estimators=150, total=  15.2s\n",
      "[CV] criterion=gini, n_estimators=150 ................................\n"
     ]
    },
    {
     "name": "stderr",
     "output_type": "stream",
     "text": [
      "/usr/local/lib/python3.6/dist-packages/sklearn/model_selection/_validation.py:515: DataConversionWarning:\n",
      "\n",
      "A column-vector y was passed when a 1d array was expected. Please change the shape of y to (n_samples,), for example using ravel().\n",
      "\n"
     ]
    },
    {
     "name": "stdout",
     "output_type": "stream",
     "text": [
      "[CV] ................. criterion=gini, n_estimators=150, total=  15.4s\n",
      "[CV] criterion=gini, n_estimators=150 ................................\n"
     ]
    },
    {
     "name": "stderr",
     "output_type": "stream",
     "text": [
      "/usr/local/lib/python3.6/dist-packages/sklearn/model_selection/_validation.py:515: DataConversionWarning:\n",
      "\n",
      "A column-vector y was passed when a 1d array was expected. Please change the shape of y to (n_samples,), for example using ravel().\n",
      "\n"
     ]
    },
    {
     "name": "stdout",
     "output_type": "stream",
     "text": [
      "[CV] ................. criterion=gini, n_estimators=150, total=  15.4s\n",
      "[CV] criterion=gini, n_estimators=150 ................................\n"
     ]
    },
    {
     "name": "stderr",
     "output_type": "stream",
     "text": [
      "/usr/local/lib/python3.6/dist-packages/sklearn/model_selection/_validation.py:515: DataConversionWarning:\n",
      "\n",
      "A column-vector y was passed when a 1d array was expected. Please change the shape of y to (n_samples,), for example using ravel().\n",
      "\n"
     ]
    },
    {
     "name": "stdout",
     "output_type": "stream",
     "text": [
      "[CV] ................. criterion=gini, n_estimators=150, total=  15.2s\n",
      "[CV] criterion=gini, n_estimators=150 ................................\n"
     ]
    },
    {
     "name": "stderr",
     "output_type": "stream",
     "text": [
      "/usr/local/lib/python3.6/dist-packages/sklearn/model_selection/_validation.py:515: DataConversionWarning:\n",
      "\n",
      "A column-vector y was passed when a 1d array was expected. Please change the shape of y to (n_samples,), for example using ravel().\n",
      "\n"
     ]
    },
    {
     "name": "stdout",
     "output_type": "stream",
     "text": [
      "[CV] ................. criterion=gini, n_estimators=150, total=  15.5s\n",
      "[CV] criterion=gini, n_estimators=150 ................................\n"
     ]
    },
    {
     "name": "stderr",
     "output_type": "stream",
     "text": [
      "/usr/local/lib/python3.6/dist-packages/sklearn/model_selection/_validation.py:515: DataConversionWarning:\n",
      "\n",
      "A column-vector y was passed when a 1d array was expected. Please change the shape of y to (n_samples,), for example using ravel().\n",
      "\n"
     ]
    },
    {
     "name": "stdout",
     "output_type": "stream",
     "text": [
      "[CV] ................. criterion=gini, n_estimators=150, total=  15.2s\n",
      "[CV] criterion=gini, n_estimators=150 ................................\n"
     ]
    },
    {
     "name": "stderr",
     "output_type": "stream",
     "text": [
      "/usr/local/lib/python3.6/dist-packages/sklearn/model_selection/_validation.py:515: DataConversionWarning:\n",
      "\n",
      "A column-vector y was passed when a 1d array was expected. Please change the shape of y to (n_samples,), for example using ravel().\n",
      "\n"
     ]
    },
    {
     "name": "stdout",
     "output_type": "stream",
     "text": [
      "[CV] ................. criterion=gini, n_estimators=150, total=  15.1s\n",
      "[CV] criterion=gini, n_estimators=150 ................................\n"
     ]
    },
    {
     "name": "stderr",
     "output_type": "stream",
     "text": [
      "/usr/local/lib/python3.6/dist-packages/sklearn/model_selection/_validation.py:515: DataConversionWarning:\n",
      "\n",
      "A column-vector y was passed when a 1d array was expected. Please change the shape of y to (n_samples,), for example using ravel().\n",
      "\n"
     ]
    },
    {
     "name": "stdout",
     "output_type": "stream",
     "text": [
      "[CV] ................. criterion=gini, n_estimators=150, total=  15.2s\n",
      "[CV] criterion=gini, n_estimators=150 ................................\n"
     ]
    },
    {
     "name": "stderr",
     "output_type": "stream",
     "text": [
      "/usr/local/lib/python3.6/dist-packages/sklearn/model_selection/_validation.py:515: DataConversionWarning:\n",
      "\n",
      "A column-vector y was passed when a 1d array was expected. Please change the shape of y to (n_samples,), for example using ravel().\n",
      "\n"
     ]
    },
    {
     "name": "stdout",
     "output_type": "stream",
     "text": [
      "[CV] ................. criterion=gini, n_estimators=150, total=  15.2s\n",
      "[CV] criterion=gini, n_estimators=150 ................................\n"
     ]
    },
    {
     "name": "stderr",
     "output_type": "stream",
     "text": [
      "/usr/local/lib/python3.6/dist-packages/sklearn/model_selection/_validation.py:515: DataConversionWarning:\n",
      "\n",
      "A column-vector y was passed when a 1d array was expected. Please change the shape of y to (n_samples,), for example using ravel().\n",
      "\n"
     ]
    },
    {
     "name": "stdout",
     "output_type": "stream",
     "text": [
      "[CV] ................. criterion=gini, n_estimators=150, total=  15.4s\n",
      "[CV] criterion=gini, n_estimators=150 ................................\n"
     ]
    },
    {
     "name": "stderr",
     "output_type": "stream",
     "text": [
      "/usr/local/lib/python3.6/dist-packages/sklearn/model_selection/_validation.py:515: DataConversionWarning:\n",
      "\n",
      "A column-vector y was passed when a 1d array was expected. Please change the shape of y to (n_samples,), for example using ravel().\n",
      "\n"
     ]
    },
    {
     "name": "stdout",
     "output_type": "stream",
     "text": [
      "[CV] ................. criterion=gini, n_estimators=150, total=  15.3s\n",
      "[CV] criterion=gini, n_estimators=150 ................................\n"
     ]
    },
    {
     "name": "stderr",
     "output_type": "stream",
     "text": [
      "/usr/local/lib/python3.6/dist-packages/sklearn/model_selection/_validation.py:515: DataConversionWarning:\n",
      "\n",
      "A column-vector y was passed when a 1d array was expected. Please change the shape of y to (n_samples,), for example using ravel().\n",
      "\n"
     ]
    },
    {
     "name": "stdout",
     "output_type": "stream",
     "text": [
      "[CV] ................. criterion=gini, n_estimators=150, total=  15.4s\n",
      "[CV] criterion=gini, n_estimators=150 ................................\n"
     ]
    },
    {
     "name": "stderr",
     "output_type": "stream",
     "text": [
      "/usr/local/lib/python3.6/dist-packages/sklearn/model_selection/_validation.py:515: DataConversionWarning:\n",
      "\n",
      "A column-vector y was passed when a 1d array was expected. Please change the shape of y to (n_samples,), for example using ravel().\n",
      "\n"
     ]
    },
    {
     "name": "stdout",
     "output_type": "stream",
     "text": [
      "[CV] ................. criterion=gini, n_estimators=150, total=  15.4s\n",
      "[CV] criterion=gini, n_estimators=150 ................................\n"
     ]
    },
    {
     "name": "stderr",
     "output_type": "stream",
     "text": [
      "/usr/local/lib/python3.6/dist-packages/sklearn/model_selection/_validation.py:515: DataConversionWarning:\n",
      "\n",
      "A column-vector y was passed when a 1d array was expected. Please change the shape of y to (n_samples,), for example using ravel().\n",
      "\n"
     ]
    },
    {
     "name": "stdout",
     "output_type": "stream",
     "text": [
      "[CV] ................. criterion=gini, n_estimators=150, total=  15.4s\n",
      "[CV] criterion=gini, n_estimators=150 ................................\n"
     ]
    },
    {
     "name": "stderr",
     "output_type": "stream",
     "text": [
      "/usr/local/lib/python3.6/dist-packages/sklearn/model_selection/_validation.py:515: DataConversionWarning:\n",
      "\n",
      "A column-vector y was passed when a 1d array was expected. Please change the shape of y to (n_samples,), for example using ravel().\n",
      "\n"
     ]
    },
    {
     "name": "stdout",
     "output_type": "stream",
     "text": [
      "[CV] ................. criterion=gini, n_estimators=150, total=  15.2s\n",
      "[CV] criterion=gini, n_estimators=150 ................................\n"
     ]
    },
    {
     "name": "stderr",
     "output_type": "stream",
     "text": [
      "/usr/local/lib/python3.6/dist-packages/sklearn/model_selection/_validation.py:515: DataConversionWarning:\n",
      "\n",
      "A column-vector y was passed when a 1d array was expected. Please change the shape of y to (n_samples,), for example using ravel().\n",
      "\n"
     ]
    },
    {
     "name": "stdout",
     "output_type": "stream",
     "text": [
      "[CV] ................. criterion=gini, n_estimators=150, total=  15.6s\n",
      "[CV] criterion=gini, n_estimators=150 ................................\n"
     ]
    },
    {
     "name": "stderr",
     "output_type": "stream",
     "text": [
      "/usr/local/lib/python3.6/dist-packages/sklearn/model_selection/_validation.py:515: DataConversionWarning:\n",
      "\n",
      "A column-vector y was passed when a 1d array was expected. Please change the shape of y to (n_samples,), for example using ravel().\n",
      "\n"
     ]
    },
    {
     "name": "stdout",
     "output_type": "stream",
     "text": [
      "[CV] ................. criterion=gini, n_estimators=150, total=  15.3s\n",
      "[CV] criterion=gini, n_estimators=150 ................................\n"
     ]
    },
    {
     "name": "stderr",
     "output_type": "stream",
     "text": [
      "/usr/local/lib/python3.6/dist-packages/sklearn/model_selection/_validation.py:515: DataConversionWarning:\n",
      "\n",
      "A column-vector y was passed when a 1d array was expected. Please change the shape of y to (n_samples,), for example using ravel().\n",
      "\n"
     ]
    },
    {
     "name": "stdout",
     "output_type": "stream",
     "text": [
      "[CV] ................. criterion=gini, n_estimators=150, total=  15.3s\n",
      "[CV] criterion=gini, n_estimators=150 ................................\n"
     ]
    },
    {
     "name": "stderr",
     "output_type": "stream",
     "text": [
      "/usr/local/lib/python3.6/dist-packages/sklearn/model_selection/_validation.py:515: DataConversionWarning:\n",
      "\n",
      "A column-vector y was passed when a 1d array was expected. Please change the shape of y to (n_samples,), for example using ravel().\n",
      "\n"
     ]
    },
    {
     "name": "stdout",
     "output_type": "stream",
     "text": [
      "[CV] ................. criterion=gini, n_estimators=150, total=  15.5s\n",
      "[CV] criterion=gini, n_estimators=150 ................................\n"
     ]
    },
    {
     "name": "stderr",
     "output_type": "stream",
     "text": [
      "/usr/local/lib/python3.6/dist-packages/sklearn/model_selection/_validation.py:515: DataConversionWarning:\n",
      "\n",
      "A column-vector y was passed when a 1d array was expected. Please change the shape of y to (n_samples,), for example using ravel().\n",
      "\n"
     ]
    },
    {
     "name": "stdout",
     "output_type": "stream",
     "text": [
      "[CV] ................. criterion=gini, n_estimators=150, total=  15.4s\n",
      "[CV] criterion=entropy, n_estimators=60 ..............................\n"
     ]
    },
    {
     "name": "stderr",
     "output_type": "stream",
     "text": [
      "/usr/local/lib/python3.6/dist-packages/sklearn/model_selection/_validation.py:515: DataConversionWarning:\n",
      "\n",
      "A column-vector y was passed when a 1d array was expected. Please change the shape of y to (n_samples,), for example using ravel().\n",
      "\n"
     ]
    },
    {
     "name": "stdout",
     "output_type": "stream",
     "text": [
      "[CV] ............... criterion=entropy, n_estimators=60, total=  11.3s\n",
      "[CV] criterion=entropy, n_estimators=60 ..............................\n"
     ]
    },
    {
     "name": "stderr",
     "output_type": "stream",
     "text": [
      "/usr/local/lib/python3.6/dist-packages/sklearn/model_selection/_validation.py:515: DataConversionWarning:\n",
      "\n",
      "A column-vector y was passed when a 1d array was expected. Please change the shape of y to (n_samples,), for example using ravel().\n",
      "\n"
     ]
    },
    {
     "name": "stdout",
     "output_type": "stream",
     "text": [
      "[CV] ............... criterion=entropy, n_estimators=60, total=  14.5s\n",
      "[CV] criterion=entropy, n_estimators=60 ..............................\n"
     ]
    },
    {
     "name": "stderr",
     "output_type": "stream",
     "text": [
      "/usr/local/lib/python3.6/dist-packages/sklearn/model_selection/_validation.py:515: DataConversionWarning:\n",
      "\n",
      "A column-vector y was passed when a 1d array was expected. Please change the shape of y to (n_samples,), for example using ravel().\n",
      "\n"
     ]
    },
    {
     "name": "stdout",
     "output_type": "stream",
     "text": [
      "[CV] ............... criterion=entropy, n_estimators=60, total=  11.4s\n",
      "[CV] criterion=entropy, n_estimators=60 ..............................\n"
     ]
    },
    {
     "name": "stderr",
     "output_type": "stream",
     "text": [
      "/usr/local/lib/python3.6/dist-packages/sklearn/model_selection/_validation.py:515: DataConversionWarning:\n",
      "\n",
      "A column-vector y was passed when a 1d array was expected. Please change the shape of y to (n_samples,), for example using ravel().\n",
      "\n"
     ]
    },
    {
     "name": "stdout",
     "output_type": "stream",
     "text": [
      "[CV] ............... criterion=entropy, n_estimators=60, total=  11.6s\n",
      "[CV] criterion=entropy, n_estimators=60 ..............................\n"
     ]
    },
    {
     "name": "stderr",
     "output_type": "stream",
     "text": [
      "/usr/local/lib/python3.6/dist-packages/sklearn/model_selection/_validation.py:515: DataConversionWarning:\n",
      "\n",
      "A column-vector y was passed when a 1d array was expected. Please change the shape of y to (n_samples,), for example using ravel().\n",
      "\n"
     ]
    },
    {
     "name": "stdout",
     "output_type": "stream",
     "text": [
      "[CV] ............... criterion=entropy, n_estimators=60, total=  11.3s\n",
      "[CV] criterion=entropy, n_estimators=60 ..............................\n"
     ]
    },
    {
     "name": "stderr",
     "output_type": "stream",
     "text": [
      "/usr/local/lib/python3.6/dist-packages/sklearn/model_selection/_validation.py:515: DataConversionWarning:\n",
      "\n",
      "A column-vector y was passed when a 1d array was expected. Please change the shape of y to (n_samples,), for example using ravel().\n",
      "\n"
     ]
    },
    {
     "name": "stdout",
     "output_type": "stream",
     "text": [
      "[CV] ............... criterion=entropy, n_estimators=60, total=  11.5s\n",
      "[CV] criterion=entropy, n_estimators=60 ..............................\n"
     ]
    },
    {
     "name": "stderr",
     "output_type": "stream",
     "text": [
      "/usr/local/lib/python3.6/dist-packages/sklearn/model_selection/_validation.py:515: DataConversionWarning:\n",
      "\n",
      "A column-vector y was passed when a 1d array was expected. Please change the shape of y to (n_samples,), for example using ravel().\n",
      "\n"
     ]
    },
    {
     "name": "stdout",
     "output_type": "stream",
     "text": [
      "[CV] ............... criterion=entropy, n_estimators=60, total=  11.4s\n",
      "[CV] criterion=entropy, n_estimators=60 ..............................\n"
     ]
    },
    {
     "name": "stderr",
     "output_type": "stream",
     "text": [
      "/usr/local/lib/python3.6/dist-packages/sklearn/model_selection/_validation.py:515: DataConversionWarning:\n",
      "\n",
      "A column-vector y was passed when a 1d array was expected. Please change the shape of y to (n_samples,), for example using ravel().\n",
      "\n"
     ]
    },
    {
     "name": "stdout",
     "output_type": "stream",
     "text": [
      "[CV] ............... criterion=entropy, n_estimators=60, total=  11.4s\n",
      "[CV] criterion=entropy, n_estimators=60 ..............................\n"
     ]
    },
    {
     "name": "stderr",
     "output_type": "stream",
     "text": [
      "/usr/local/lib/python3.6/dist-packages/sklearn/model_selection/_validation.py:515: DataConversionWarning:\n",
      "\n",
      "A column-vector y was passed when a 1d array was expected. Please change the shape of y to (n_samples,), for example using ravel().\n",
      "\n"
     ]
    },
    {
     "name": "stdout",
     "output_type": "stream",
     "text": [
      "[CV] ............... criterion=entropy, n_estimators=60, total=  11.4s\n",
      "[CV] criterion=entropy, n_estimators=60 ..............................\n"
     ]
    },
    {
     "name": "stderr",
     "output_type": "stream",
     "text": [
      "/usr/local/lib/python3.6/dist-packages/sklearn/model_selection/_validation.py:515: DataConversionWarning:\n",
      "\n",
      "A column-vector y was passed when a 1d array was expected. Please change the shape of y to (n_samples,), for example using ravel().\n",
      "\n"
     ]
    },
    {
     "name": "stdout",
     "output_type": "stream",
     "text": [
      "[CV] ............... criterion=entropy, n_estimators=60, total=  11.2s\n",
      "[CV] criterion=entropy, n_estimators=60 ..............................\n"
     ]
    },
    {
     "name": "stderr",
     "output_type": "stream",
     "text": [
      "/usr/local/lib/python3.6/dist-packages/sklearn/model_selection/_validation.py:515: DataConversionWarning:\n",
      "\n",
      "A column-vector y was passed when a 1d array was expected. Please change the shape of y to (n_samples,), for example using ravel().\n",
      "\n"
     ]
    },
    {
     "name": "stdout",
     "output_type": "stream",
     "text": [
      "[CV] ............... criterion=entropy, n_estimators=60, total=  11.6s\n",
      "[CV] criterion=entropy, n_estimators=60 ..............................\n"
     ]
    },
    {
     "name": "stderr",
     "output_type": "stream",
     "text": [
      "/usr/local/lib/python3.6/dist-packages/sklearn/model_selection/_validation.py:515: DataConversionWarning:\n",
      "\n",
      "A column-vector y was passed when a 1d array was expected. Please change the shape of y to (n_samples,), for example using ravel().\n",
      "\n"
     ]
    },
    {
     "name": "stdout",
     "output_type": "stream",
     "text": [
      "[CV] ............... criterion=entropy, n_estimators=60, total=  11.7s\n",
      "[CV] criterion=entropy, n_estimators=60 ..............................\n"
     ]
    },
    {
     "name": "stderr",
     "output_type": "stream",
     "text": [
      "/usr/local/lib/python3.6/dist-packages/sklearn/model_selection/_validation.py:515: DataConversionWarning:\n",
      "\n",
      "A column-vector y was passed when a 1d array was expected. Please change the shape of y to (n_samples,), for example using ravel().\n",
      "\n"
     ]
    },
    {
     "name": "stdout",
     "output_type": "stream",
     "text": [
      "[CV] ............... criterion=entropy, n_estimators=60, total=  11.6s\n",
      "[CV] criterion=entropy, n_estimators=60 ..............................\n"
     ]
    },
    {
     "name": "stderr",
     "output_type": "stream",
     "text": [
      "/usr/local/lib/python3.6/dist-packages/sklearn/model_selection/_validation.py:515: DataConversionWarning:\n",
      "\n",
      "A column-vector y was passed when a 1d array was expected. Please change the shape of y to (n_samples,), for example using ravel().\n",
      "\n"
     ]
    },
    {
     "name": "stdout",
     "output_type": "stream",
     "text": [
      "[CV] ............... criterion=entropy, n_estimators=60, total=  11.8s\n",
      "[CV] criterion=entropy, n_estimators=60 ..............................\n"
     ]
    },
    {
     "name": "stderr",
     "output_type": "stream",
     "text": [
      "/usr/local/lib/python3.6/dist-packages/sklearn/model_selection/_validation.py:515: DataConversionWarning:\n",
      "\n",
      "A column-vector y was passed when a 1d array was expected. Please change the shape of y to (n_samples,), for example using ravel().\n",
      "\n"
     ]
    },
    {
     "name": "stdout",
     "output_type": "stream",
     "text": [
      "[CV] ............... criterion=entropy, n_estimators=60, total=  11.5s\n",
      "[CV] criterion=entropy, n_estimators=60 ..............................\n"
     ]
    },
    {
     "name": "stderr",
     "output_type": "stream",
     "text": [
      "/usr/local/lib/python3.6/dist-packages/sklearn/model_selection/_validation.py:515: DataConversionWarning:\n",
      "\n",
      "A column-vector y was passed when a 1d array was expected. Please change the shape of y to (n_samples,), for example using ravel().\n",
      "\n"
     ]
    },
    {
     "name": "stdout",
     "output_type": "stream",
     "text": [
      "[CV] ............... criterion=entropy, n_estimators=60, total=  11.3s\n",
      "[CV] criterion=entropy, n_estimators=60 ..............................\n"
     ]
    },
    {
     "name": "stderr",
     "output_type": "stream",
     "text": [
      "/usr/local/lib/python3.6/dist-packages/sklearn/model_selection/_validation.py:515: DataConversionWarning:\n",
      "\n",
      "A column-vector y was passed when a 1d array was expected. Please change the shape of y to (n_samples,), for example using ravel().\n",
      "\n"
     ]
    },
    {
     "name": "stdout",
     "output_type": "stream",
     "text": [
      "[CV] ............... criterion=entropy, n_estimators=60, total=  11.7s\n",
      "[CV] criterion=entropy, n_estimators=60 ..............................\n"
     ]
    },
    {
     "name": "stderr",
     "output_type": "stream",
     "text": [
      "/usr/local/lib/python3.6/dist-packages/sklearn/model_selection/_validation.py:515: DataConversionWarning:\n",
      "\n",
      "A column-vector y was passed when a 1d array was expected. Please change the shape of y to (n_samples,), for example using ravel().\n",
      "\n"
     ]
    },
    {
     "name": "stdout",
     "output_type": "stream",
     "text": [
      "[CV] ............... criterion=entropy, n_estimators=60, total=  11.7s\n",
      "[CV] criterion=entropy, n_estimators=60 ..............................\n"
     ]
    },
    {
     "name": "stderr",
     "output_type": "stream",
     "text": [
      "/usr/local/lib/python3.6/dist-packages/sklearn/model_selection/_validation.py:515: DataConversionWarning:\n",
      "\n",
      "A column-vector y was passed when a 1d array was expected. Please change the shape of y to (n_samples,), for example using ravel().\n",
      "\n"
     ]
    },
    {
     "name": "stdout",
     "output_type": "stream",
     "text": [
      "[CV] ............... criterion=entropy, n_estimators=60, total=  11.6s\n",
      "[CV] criterion=entropy, n_estimators=60 ..............................\n"
     ]
    },
    {
     "name": "stderr",
     "output_type": "stream",
     "text": [
      "/usr/local/lib/python3.6/dist-packages/sklearn/model_selection/_validation.py:515: DataConversionWarning:\n",
      "\n",
      "A column-vector y was passed when a 1d array was expected. Please change the shape of y to (n_samples,), for example using ravel().\n",
      "\n"
     ]
    },
    {
     "name": "stdout",
     "output_type": "stream",
     "text": [
      "[CV] ............... criterion=entropy, n_estimators=60, total=  11.6s\n",
      "[CV] criterion=entropy, n_estimators=60 ..............................\n"
     ]
    },
    {
     "name": "stderr",
     "output_type": "stream",
     "text": [
      "/usr/local/lib/python3.6/dist-packages/sklearn/model_selection/_validation.py:515: DataConversionWarning:\n",
      "\n",
      "A column-vector y was passed when a 1d array was expected. Please change the shape of y to (n_samples,), for example using ravel().\n",
      "\n"
     ]
    },
    {
     "name": "stdout",
     "output_type": "stream",
     "text": [
      "[CV] ............... criterion=entropy, n_estimators=60, total=  11.5s\n",
      "[CV] criterion=entropy, n_estimators=100 .............................\n"
     ]
    },
    {
     "name": "stderr",
     "output_type": "stream",
     "text": [
      "/usr/local/lib/python3.6/dist-packages/sklearn/model_selection/_validation.py:515: DataConversionWarning:\n",
      "\n",
      "A column-vector y was passed when a 1d array was expected. Please change the shape of y to (n_samples,), for example using ravel().\n",
      "\n"
     ]
    },
    {
     "name": "stdout",
     "output_type": "stream",
     "text": [
      "[CV] .............. criterion=entropy, n_estimators=100, total=  18.8s\n",
      "[CV] criterion=entropy, n_estimators=100 .............................\n"
     ]
    },
    {
     "name": "stderr",
     "output_type": "stream",
     "text": [
      "/usr/local/lib/python3.6/dist-packages/sklearn/model_selection/_validation.py:515: DataConversionWarning:\n",
      "\n",
      "A column-vector y was passed when a 1d array was expected. Please change the shape of y to (n_samples,), for example using ravel().\n",
      "\n"
     ]
    },
    {
     "name": "stdout",
     "output_type": "stream",
     "text": [
      "[CV] .............. criterion=entropy, n_estimators=100, total=  18.9s\n",
      "[CV] criterion=entropy, n_estimators=100 .............................\n"
     ]
    },
    {
     "name": "stderr",
     "output_type": "stream",
     "text": [
      "/usr/local/lib/python3.6/dist-packages/sklearn/model_selection/_validation.py:515: DataConversionWarning:\n",
      "\n",
      "A column-vector y was passed when a 1d array was expected. Please change the shape of y to (n_samples,), for example using ravel().\n",
      "\n"
     ]
    },
    {
     "name": "stdout",
     "output_type": "stream",
     "text": [
      "[CV] .............. criterion=entropy, n_estimators=100, total=  19.3s\n",
      "[CV] criterion=entropy, n_estimators=100 .............................\n"
     ]
    },
    {
     "name": "stderr",
     "output_type": "stream",
     "text": [
      "/usr/local/lib/python3.6/dist-packages/sklearn/model_selection/_validation.py:515: DataConversionWarning:\n",
      "\n",
      "A column-vector y was passed when a 1d array was expected. Please change the shape of y to (n_samples,), for example using ravel().\n",
      "\n"
     ]
    },
    {
     "name": "stdout",
     "output_type": "stream",
     "text": [
      "[CV] .............. criterion=entropy, n_estimators=100, total=  19.3s\n",
      "[CV] criterion=entropy, n_estimators=100 .............................\n"
     ]
    },
    {
     "name": "stderr",
     "output_type": "stream",
     "text": [
      "/usr/local/lib/python3.6/dist-packages/sklearn/model_selection/_validation.py:515: DataConversionWarning:\n",
      "\n",
      "A column-vector y was passed when a 1d array was expected. Please change the shape of y to (n_samples,), for example using ravel().\n",
      "\n"
     ]
    },
    {
     "name": "stdout",
     "output_type": "stream",
     "text": [
      "[CV] .............. criterion=entropy, n_estimators=100, total=  18.8s\n",
      "[CV] criterion=entropy, n_estimators=100 .............................\n"
     ]
    },
    {
     "name": "stderr",
     "output_type": "stream",
     "text": [
      "/usr/local/lib/python3.6/dist-packages/sklearn/model_selection/_validation.py:515: DataConversionWarning:\n",
      "\n",
      "A column-vector y was passed when a 1d array was expected. Please change the shape of y to (n_samples,), for example using ravel().\n",
      "\n"
     ]
    },
    {
     "name": "stdout",
     "output_type": "stream",
     "text": [
      "[CV] .............. criterion=entropy, n_estimators=100, total=  19.5s\n",
      "[CV] criterion=entropy, n_estimators=100 .............................\n"
     ]
    },
    {
     "name": "stderr",
     "output_type": "stream",
     "text": [
      "/usr/local/lib/python3.6/dist-packages/sklearn/model_selection/_validation.py:515: DataConversionWarning:\n",
      "\n",
      "A column-vector y was passed when a 1d array was expected. Please change the shape of y to (n_samples,), for example using ravel().\n",
      "\n"
     ]
    },
    {
     "name": "stdout",
     "output_type": "stream",
     "text": [
      "[CV] .............. criterion=entropy, n_estimators=100, total=  19.3s\n",
      "[CV] criterion=entropy, n_estimators=100 .............................\n"
     ]
    },
    {
     "name": "stderr",
     "output_type": "stream",
     "text": [
      "/usr/local/lib/python3.6/dist-packages/sklearn/model_selection/_validation.py:515: DataConversionWarning:\n",
      "\n",
      "A column-vector y was passed when a 1d array was expected. Please change the shape of y to (n_samples,), for example using ravel().\n",
      "\n"
     ]
    },
    {
     "name": "stdout",
     "output_type": "stream",
     "text": [
      "[CV] .............. criterion=entropy, n_estimators=100, total=  19.1s\n",
      "[CV] criterion=entropy, n_estimators=100 .............................\n"
     ]
    },
    {
     "name": "stderr",
     "output_type": "stream",
     "text": [
      "/usr/local/lib/python3.6/dist-packages/sklearn/model_selection/_validation.py:515: DataConversionWarning:\n",
      "\n",
      "A column-vector y was passed when a 1d array was expected. Please change the shape of y to (n_samples,), for example using ravel().\n",
      "\n"
     ]
    },
    {
     "name": "stdout",
     "output_type": "stream",
     "text": [
      "[CV] .............. criterion=entropy, n_estimators=100, total=  19.2s\n",
      "[CV] criterion=entropy, n_estimators=100 .............................\n"
     ]
    },
    {
     "name": "stderr",
     "output_type": "stream",
     "text": [
      "/usr/local/lib/python3.6/dist-packages/sklearn/model_selection/_validation.py:515: DataConversionWarning:\n",
      "\n",
      "A column-vector y was passed when a 1d array was expected. Please change the shape of y to (n_samples,), for example using ravel().\n",
      "\n"
     ]
    },
    {
     "name": "stdout",
     "output_type": "stream",
     "text": [
      "[CV] .............. criterion=entropy, n_estimators=100, total=  19.1s\n",
      "[CV] criterion=entropy, n_estimators=100 .............................\n"
     ]
    },
    {
     "name": "stderr",
     "output_type": "stream",
     "text": [
      "/usr/local/lib/python3.6/dist-packages/sklearn/model_selection/_validation.py:515: DataConversionWarning:\n",
      "\n",
      "A column-vector y was passed when a 1d array was expected. Please change the shape of y to (n_samples,), for example using ravel().\n",
      "\n"
     ]
    },
    {
     "name": "stdout",
     "output_type": "stream",
     "text": [
      "[CV] .............. criterion=entropy, n_estimators=100, total=  19.2s\n",
      "[CV] criterion=entropy, n_estimators=100 .............................\n"
     ]
    },
    {
     "name": "stderr",
     "output_type": "stream",
     "text": [
      "/usr/local/lib/python3.6/dist-packages/sklearn/model_selection/_validation.py:515: DataConversionWarning:\n",
      "\n",
      "A column-vector y was passed when a 1d array was expected. Please change the shape of y to (n_samples,), for example using ravel().\n",
      "\n"
     ]
    },
    {
     "name": "stdout",
     "output_type": "stream",
     "text": [
      "[CV] .............. criterion=entropy, n_estimators=100, total=  19.6s\n",
      "[CV] criterion=entropy, n_estimators=100 .............................\n"
     ]
    },
    {
     "name": "stderr",
     "output_type": "stream",
     "text": [
      "/usr/local/lib/python3.6/dist-packages/sklearn/model_selection/_validation.py:515: DataConversionWarning:\n",
      "\n",
      "A column-vector y was passed when a 1d array was expected. Please change the shape of y to (n_samples,), for example using ravel().\n",
      "\n"
     ]
    },
    {
     "name": "stdout",
     "output_type": "stream",
     "text": [
      "[CV] .............. criterion=entropy, n_estimators=100, total=  19.3s\n",
      "[CV] criterion=entropy, n_estimators=100 .............................\n"
     ]
    },
    {
     "name": "stderr",
     "output_type": "stream",
     "text": [
      "/usr/local/lib/python3.6/dist-packages/sklearn/model_selection/_validation.py:515: DataConversionWarning:\n",
      "\n",
      "A column-vector y was passed when a 1d array was expected. Please change the shape of y to (n_samples,), for example using ravel().\n",
      "\n"
     ]
    },
    {
     "name": "stdout",
     "output_type": "stream",
     "text": [
      "[CV] .............. criterion=entropy, n_estimators=100, total=  19.4s\n",
      "[CV] criterion=entropy, n_estimators=100 .............................\n"
     ]
    },
    {
     "name": "stderr",
     "output_type": "stream",
     "text": [
      "/usr/local/lib/python3.6/dist-packages/sklearn/model_selection/_validation.py:515: DataConversionWarning:\n",
      "\n",
      "A column-vector y was passed when a 1d array was expected. Please change the shape of y to (n_samples,), for example using ravel().\n",
      "\n"
     ]
    },
    {
     "name": "stdout",
     "output_type": "stream",
     "text": [
      "[CV] .............. criterion=entropy, n_estimators=100, total=  19.2s\n",
      "[CV] criterion=entropy, n_estimators=100 .............................\n"
     ]
    },
    {
     "name": "stderr",
     "output_type": "stream",
     "text": [
      "/usr/local/lib/python3.6/dist-packages/sklearn/model_selection/_validation.py:515: DataConversionWarning:\n",
      "\n",
      "A column-vector y was passed when a 1d array was expected. Please change the shape of y to (n_samples,), for example using ravel().\n",
      "\n"
     ]
    },
    {
     "name": "stdout",
     "output_type": "stream",
     "text": [
      "[CV] .............. criterion=entropy, n_estimators=100, total=  19.2s\n",
      "[CV] criterion=entropy, n_estimators=100 .............................\n"
     ]
    },
    {
     "name": "stderr",
     "output_type": "stream",
     "text": [
      "/usr/local/lib/python3.6/dist-packages/sklearn/model_selection/_validation.py:515: DataConversionWarning:\n",
      "\n",
      "A column-vector y was passed when a 1d array was expected. Please change the shape of y to (n_samples,), for example using ravel().\n",
      "\n"
     ]
    },
    {
     "name": "stdout",
     "output_type": "stream",
     "text": [
      "[CV] .............. criterion=entropy, n_estimators=100, total=  19.5s\n",
      "[CV] criterion=entropy, n_estimators=100 .............................\n"
     ]
    },
    {
     "name": "stderr",
     "output_type": "stream",
     "text": [
      "/usr/local/lib/python3.6/dist-packages/sklearn/model_selection/_validation.py:515: DataConversionWarning:\n",
      "\n",
      "A column-vector y was passed when a 1d array was expected. Please change the shape of y to (n_samples,), for example using ravel().\n",
      "\n"
     ]
    },
    {
     "name": "stdout",
     "output_type": "stream",
     "text": [
      "[CV] .............. criterion=entropy, n_estimators=100, total=  19.6s\n",
      "[CV] criterion=entropy, n_estimators=100 .............................\n"
     ]
    },
    {
     "name": "stderr",
     "output_type": "stream",
     "text": [
      "/usr/local/lib/python3.6/dist-packages/sklearn/model_selection/_validation.py:515: DataConversionWarning:\n",
      "\n",
      "A column-vector y was passed when a 1d array was expected. Please change the shape of y to (n_samples,), for example using ravel().\n",
      "\n"
     ]
    },
    {
     "name": "stdout",
     "output_type": "stream",
     "text": [
      "[CV] .............. criterion=entropy, n_estimators=100, total=  19.0s\n",
      "[CV] criterion=entropy, n_estimators=100 .............................\n"
     ]
    },
    {
     "name": "stderr",
     "output_type": "stream",
     "text": [
      "/usr/local/lib/python3.6/dist-packages/sklearn/model_selection/_validation.py:515: DataConversionWarning:\n",
      "\n",
      "A column-vector y was passed when a 1d array was expected. Please change the shape of y to (n_samples,), for example using ravel().\n",
      "\n"
     ]
    },
    {
     "name": "stdout",
     "output_type": "stream",
     "text": [
      "[CV] .............. criterion=entropy, n_estimators=100, total=  23.0s\n",
      "[CV] criterion=entropy, n_estimators=100 .............................\n"
     ]
    },
    {
     "name": "stderr",
     "output_type": "stream",
     "text": [
      "/usr/local/lib/python3.6/dist-packages/sklearn/model_selection/_validation.py:515: DataConversionWarning:\n",
      "\n",
      "A column-vector y was passed when a 1d array was expected. Please change the shape of y to (n_samples,), for example using ravel().\n",
      "\n"
     ]
    },
    {
     "name": "stdout",
     "output_type": "stream",
     "text": [
      "[CV] .............. criterion=entropy, n_estimators=100, total=  19.3s\n",
      "[CV] criterion=entropy, n_estimators=150 .............................\n"
     ]
    },
    {
     "name": "stderr",
     "output_type": "stream",
     "text": [
      "/usr/local/lib/python3.6/dist-packages/sklearn/model_selection/_validation.py:515: DataConversionWarning:\n",
      "\n",
      "A column-vector y was passed when a 1d array was expected. Please change the shape of y to (n_samples,), for example using ravel().\n",
      "\n"
     ]
    },
    {
     "name": "stdout",
     "output_type": "stream",
     "text": [
      "[CV] .............. criterion=entropy, n_estimators=150, total=  28.3s\n",
      "[CV] criterion=entropy, n_estimators=150 .............................\n"
     ]
    },
    {
     "name": "stderr",
     "output_type": "stream",
     "text": [
      "/usr/local/lib/python3.6/dist-packages/sklearn/model_selection/_validation.py:515: DataConversionWarning:\n",
      "\n",
      "A column-vector y was passed when a 1d array was expected. Please change the shape of y to (n_samples,), for example using ravel().\n",
      "\n"
     ]
    },
    {
     "name": "stdout",
     "output_type": "stream",
     "text": [
      "[CV] .............. criterion=entropy, n_estimators=150, total=  28.6s\n",
      "[CV] criterion=entropy, n_estimators=150 .............................\n"
     ]
    },
    {
     "name": "stderr",
     "output_type": "stream",
     "text": [
      "/usr/local/lib/python3.6/dist-packages/sklearn/model_selection/_validation.py:515: DataConversionWarning:\n",
      "\n",
      "A column-vector y was passed when a 1d array was expected. Please change the shape of y to (n_samples,), for example using ravel().\n",
      "\n"
     ]
    },
    {
     "name": "stdout",
     "output_type": "stream",
     "text": [
      "[CV] .............. criterion=entropy, n_estimators=150, total=  28.9s\n",
      "[CV] criterion=entropy, n_estimators=150 .............................\n"
     ]
    },
    {
     "name": "stderr",
     "output_type": "stream",
     "text": [
      "/usr/local/lib/python3.6/dist-packages/sklearn/model_selection/_validation.py:515: DataConversionWarning:\n",
      "\n",
      "A column-vector y was passed when a 1d array was expected. Please change the shape of y to (n_samples,), for example using ravel().\n",
      "\n"
     ]
    },
    {
     "name": "stdout",
     "output_type": "stream",
     "text": [
      "[CV] .............. criterion=entropy, n_estimators=150, total=  29.1s\n",
      "[CV] criterion=entropy, n_estimators=150 .............................\n"
     ]
    },
    {
     "name": "stderr",
     "output_type": "stream",
     "text": [
      "/usr/local/lib/python3.6/dist-packages/sklearn/model_selection/_validation.py:515: DataConversionWarning:\n",
      "\n",
      "A column-vector y was passed when a 1d array was expected. Please change the shape of y to (n_samples,), for example using ravel().\n",
      "\n"
     ]
    },
    {
     "name": "stdout",
     "output_type": "stream",
     "text": [
      "[CV] .............. criterion=entropy, n_estimators=150, total=  28.0s\n",
      "[CV] criterion=entropy, n_estimators=150 .............................\n"
     ]
    },
    {
     "name": "stderr",
     "output_type": "stream",
     "text": [
      "/usr/local/lib/python3.6/dist-packages/sklearn/model_selection/_validation.py:515: DataConversionWarning:\n",
      "\n",
      "A column-vector y was passed when a 1d array was expected. Please change the shape of y to (n_samples,), for example using ravel().\n",
      "\n"
     ]
    },
    {
     "name": "stdout",
     "output_type": "stream",
     "text": [
      "[CV] .............. criterion=entropy, n_estimators=150, total=  29.2s\n",
      "[CV] criterion=entropy, n_estimators=150 .............................\n"
     ]
    },
    {
     "name": "stderr",
     "output_type": "stream",
     "text": [
      "/usr/local/lib/python3.6/dist-packages/sklearn/model_selection/_validation.py:515: DataConversionWarning:\n",
      "\n",
      "A column-vector y was passed when a 1d array was expected. Please change the shape of y to (n_samples,), for example using ravel().\n",
      "\n"
     ]
    },
    {
     "name": "stdout",
     "output_type": "stream",
     "text": [
      "[CV] .............. criterion=entropy, n_estimators=150, total=  28.9s\n",
      "[CV] criterion=entropy, n_estimators=150 .............................\n"
     ]
    },
    {
     "name": "stderr",
     "output_type": "stream",
     "text": [
      "/usr/local/lib/python3.6/dist-packages/sklearn/model_selection/_validation.py:515: DataConversionWarning:\n",
      "\n",
      "A column-vector y was passed when a 1d array was expected. Please change the shape of y to (n_samples,), for example using ravel().\n",
      "\n"
     ]
    },
    {
     "name": "stdout",
     "output_type": "stream",
     "text": [
      "[CV] .............. criterion=entropy, n_estimators=150, total=  28.8s\n",
      "[CV] criterion=entropy, n_estimators=150 .............................\n"
     ]
    },
    {
     "name": "stderr",
     "output_type": "stream",
     "text": [
      "/usr/local/lib/python3.6/dist-packages/sklearn/model_selection/_validation.py:515: DataConversionWarning:\n",
      "\n",
      "A column-vector y was passed when a 1d array was expected. Please change the shape of y to (n_samples,), for example using ravel().\n",
      "\n"
     ]
    },
    {
     "name": "stdout",
     "output_type": "stream",
     "text": [
      "[CV] .............. criterion=entropy, n_estimators=150, total=  28.3s\n",
      "[CV] criterion=entropy, n_estimators=150 .............................\n"
     ]
    },
    {
     "name": "stderr",
     "output_type": "stream",
     "text": [
      "/usr/local/lib/python3.6/dist-packages/sklearn/model_selection/_validation.py:515: DataConversionWarning:\n",
      "\n",
      "A column-vector y was passed when a 1d array was expected. Please change the shape of y to (n_samples,), for example using ravel().\n",
      "\n"
     ]
    },
    {
     "name": "stdout",
     "output_type": "stream",
     "text": [
      "[CV] .............. criterion=entropy, n_estimators=150, total=  28.5s\n",
      "[CV] criterion=entropy, n_estimators=150 .............................\n"
     ]
    },
    {
     "name": "stderr",
     "output_type": "stream",
     "text": [
      "/usr/local/lib/python3.6/dist-packages/sklearn/model_selection/_validation.py:515: DataConversionWarning:\n",
      "\n",
      "A column-vector y was passed when a 1d array was expected. Please change the shape of y to (n_samples,), for example using ravel().\n",
      "\n"
     ]
    },
    {
     "name": "stdout",
     "output_type": "stream",
     "text": [
      "[CV] .............. criterion=entropy, n_estimators=150, total=  28.7s\n",
      "[CV] criterion=entropy, n_estimators=150 .............................\n"
     ]
    },
    {
     "name": "stderr",
     "output_type": "stream",
     "text": [
      "/usr/local/lib/python3.6/dist-packages/sklearn/model_selection/_validation.py:515: DataConversionWarning:\n",
      "\n",
      "A column-vector y was passed when a 1d array was expected. Please change the shape of y to (n_samples,), for example using ravel().\n",
      "\n"
     ]
    },
    {
     "name": "stdout",
     "output_type": "stream",
     "text": [
      "[CV] .............. criterion=entropy, n_estimators=150, total=  28.9s\n",
      "[CV] criterion=entropy, n_estimators=150 .............................\n"
     ]
    },
    {
     "name": "stderr",
     "output_type": "stream",
     "text": [
      "/usr/local/lib/python3.6/dist-packages/sklearn/model_selection/_validation.py:515: DataConversionWarning:\n",
      "\n",
      "A column-vector y was passed when a 1d array was expected. Please change the shape of y to (n_samples,), for example using ravel().\n",
      "\n"
     ]
    },
    {
     "name": "stdout",
     "output_type": "stream",
     "text": [
      "[CV] .............. criterion=entropy, n_estimators=150, total=  28.6s\n",
      "[CV] criterion=entropy, n_estimators=150 .............................\n"
     ]
    },
    {
     "name": "stderr",
     "output_type": "stream",
     "text": [
      "/usr/local/lib/python3.6/dist-packages/sklearn/model_selection/_validation.py:515: DataConversionWarning:\n",
      "\n",
      "A column-vector y was passed when a 1d array was expected. Please change the shape of y to (n_samples,), for example using ravel().\n",
      "\n"
     ]
    },
    {
     "name": "stdout",
     "output_type": "stream",
     "text": [
      "[CV] .............. criterion=entropy, n_estimators=150, total=  29.0s\n",
      "[CV] criterion=entropy, n_estimators=150 .............................\n"
     ]
    },
    {
     "name": "stderr",
     "output_type": "stream",
     "text": [
      "/usr/local/lib/python3.6/dist-packages/sklearn/model_selection/_validation.py:515: DataConversionWarning:\n",
      "\n",
      "A column-vector y was passed when a 1d array was expected. Please change the shape of y to (n_samples,), for example using ravel().\n",
      "\n"
     ]
    },
    {
     "name": "stdout",
     "output_type": "stream",
     "text": [
      "[CV] .............. criterion=entropy, n_estimators=150, total=  28.8s\n",
      "[CV] criterion=entropy, n_estimators=150 .............................\n"
     ]
    },
    {
     "name": "stderr",
     "output_type": "stream",
     "text": [
      "/usr/local/lib/python3.6/dist-packages/sklearn/model_selection/_validation.py:515: DataConversionWarning:\n",
      "\n",
      "A column-vector y was passed when a 1d array was expected. Please change the shape of y to (n_samples,), for example using ravel().\n",
      "\n"
     ]
    },
    {
     "name": "stdout",
     "output_type": "stream",
     "text": [
      "[CV] .............. criterion=entropy, n_estimators=150, total=  29.0s\n",
      "[CV] criterion=entropy, n_estimators=150 .............................\n"
     ]
    },
    {
     "name": "stderr",
     "output_type": "stream",
     "text": [
      "/usr/local/lib/python3.6/dist-packages/sklearn/model_selection/_validation.py:515: DataConversionWarning:\n",
      "\n",
      "A column-vector y was passed when a 1d array was expected. Please change the shape of y to (n_samples,), for example using ravel().\n",
      "\n"
     ]
    },
    {
     "name": "stdout",
     "output_type": "stream",
     "text": [
      "[CV] .............. criterion=entropy, n_estimators=150, total=  28.9s\n",
      "[CV] criterion=entropy, n_estimators=150 .............................\n"
     ]
    },
    {
     "name": "stderr",
     "output_type": "stream",
     "text": [
      "/usr/local/lib/python3.6/dist-packages/sklearn/model_selection/_validation.py:515: DataConversionWarning:\n",
      "\n",
      "A column-vector y was passed when a 1d array was expected. Please change the shape of y to (n_samples,), for example using ravel().\n",
      "\n"
     ]
    },
    {
     "name": "stdout",
     "output_type": "stream",
     "text": [
      "[CV] .............. criterion=entropy, n_estimators=150, total=  28.9s\n",
      "[CV] criterion=entropy, n_estimators=150 .............................\n"
     ]
    },
    {
     "name": "stderr",
     "output_type": "stream",
     "text": [
      "/usr/local/lib/python3.6/dist-packages/sklearn/model_selection/_validation.py:515: DataConversionWarning:\n",
      "\n",
      "A column-vector y was passed when a 1d array was expected. Please change the shape of y to (n_samples,), for example using ravel().\n",
      "\n"
     ]
    },
    {
     "name": "stdout",
     "output_type": "stream",
     "text": [
      "[CV] .............. criterion=entropy, n_estimators=150, total=  28.8s\n",
      "[CV] criterion=entropy, n_estimators=150 .............................\n"
     ]
    },
    {
     "name": "stderr",
     "output_type": "stream",
     "text": [
      "/usr/local/lib/python3.6/dist-packages/sklearn/model_selection/_validation.py:515: DataConversionWarning:\n",
      "\n",
      "A column-vector y was passed when a 1d array was expected. Please change the shape of y to (n_samples,), for example using ravel().\n",
      "\n"
     ]
    },
    {
     "name": "stdout",
     "output_type": "stream",
     "text": [
      "[CV] .............. criterion=entropy, n_estimators=150, total=  29.0s\n",
      "[CV] criterion=entropy, n_estimators=150 .............................\n"
     ]
    },
    {
     "name": "stderr",
     "output_type": "stream",
     "text": [
      "/usr/local/lib/python3.6/dist-packages/sklearn/model_selection/_validation.py:515: DataConversionWarning:\n",
      "\n",
      "A column-vector y was passed when a 1d array was expected. Please change the shape of y to (n_samples,), for example using ravel().\n",
      "\n"
     ]
    },
    {
     "name": "stdout",
     "output_type": "stream",
     "text": [
      "[CV] .............. criterion=entropy, n_estimators=150, total=  29.1s\n"
     ]
    },
    {
     "name": "stderr",
     "output_type": "stream",
     "text": [
      "[Parallel(n_jobs=1)]: Done 126 out of 126 | elapsed: 32.3min finished\n",
      "/usr/local/lib/python3.6/dist-packages/sklearn/model_selection/_search.py:739: DataConversionWarning:\n",
      "\n",
      "A column-vector y was passed when a 1d array was expected. Please change the shape of y to (n_samples,), for example using ravel().\n",
      "\n"
     ]
    }
   ],
   "source": [
    "nTrainingSubjects = len(subject_train.subject_id.unique())\n",
    "groups = subject_train.subject_id\n",
    "\n",
    "\n",
    "param_grid = {\"n_estimators\": [60, 100, 150],      \n",
    "              \"criterion\" : [\"gini\", \"entropy\"]\n",
    "             }\n",
    "\n",
    "gkf_randforest = GroupKFold(n_splits = nTrainingSubjects)\n",
    "grouped_cv_randforest = gkf_randforest.split(X_train, y_train, groups=groups)\n",
    "\n",
    "clf_cross_validated_randforest = GridSearchCV(RandomForestClassifier(),param_grid, refit=True,verbose=2, cv = grouped_cv_randforest, scoring=\"accuracy\", return_train_score=True)\n",
    "cross_validated_randforest_result = clf_cross_validated_randforest.fit(X_train, y_train.values)"
   ]
  },
  {
   "cell_type": "code",
   "execution_count": 23,
   "metadata": {
    "colab": {
     "base_uri": "https://localhost:8080/",
     "height": 252
    },
    "colab_type": "code",
    "id": "5GUyOlZcOcMe",
    "outputId": "4364bc65-4395-461a-b5f9-f8dba8bf6266"
   },
   "outputs": [
    {
     "name": "stdout",
     "output_type": "stream",
     "text": [
      "              precision    recall  f1-score   support\n",
      "\n",
      "           1       0.90      0.97      0.93       496\n",
      "           2       0.89      0.92      0.90       471\n",
      "           3       0.97      0.84      0.90       420\n",
      "           4       0.93      0.88      0.90       491\n",
      "           5       0.89      0.94      0.92       532\n",
      "           6       1.00      1.00      1.00       537\n",
      "\n",
      "    accuracy                           0.93      2947\n",
      "   macro avg       0.93      0.92      0.93      2947\n",
      "weighted avg       0.93      0.93      0.93      2947\n",
      "\n",
      "The total accuracy is 0.9273837801153716\n"
     ]
    }
   ],
   "source": [
    "cv_prediction_randforest = cross_validated_randforest_result.predict(X_test)\n",
    "print (classification_report(y_test, cv_prediction_randforest))\n",
    "accuracy_randforest_cv = classification_report(y_test, cv_prediction_randforest, output_dict=True)[\"accuracy\"]\n",
    "print (\"The total accuracy is {}\".format(accuracy_randforest_cv))"
   ]
  },
  {
   "cell_type": "code",
   "execution_count": 24,
   "metadata": {
    "colab": {
     "base_uri": "https://localhost:8080/",
     "height": 225
    },
    "colab_type": "code",
    "id": "XtffB2JaOMlc",
    "outputId": "5a87bb9b-7cb2-4fc2-f85e-68883f334435"
   },
   "outputs": [
    {
     "data": {
      "text/html": [
       "<div>\n",
       "<style scoped>\n",
       "    .dataframe tbody tr th:only-of-type {\n",
       "        vertical-align: middle;\n",
       "    }\n",
       "\n",
       "    .dataframe tbody tr th {\n",
       "        vertical-align: top;\n",
       "    }\n",
       "\n",
       "    .dataframe thead th {\n",
       "        text-align: right;\n",
       "    }\n",
       "</style>\n",
       "<table border=\"1\" class=\"dataframe\">\n",
       "  <thead>\n",
       "    <tr style=\"text-align: right;\">\n",
       "      <th></th>\n",
       "      <th>criterion</th>\n",
       "      <th>n_estimators</th>\n",
       "      <th>mean_train_score</th>\n",
       "      <th>mean_test_score</th>\n",
       "      <th>std_train_score</th>\n",
       "      <th>std_test_score</th>\n",
       "    </tr>\n",
       "  </thead>\n",
       "  <tbody>\n",
       "    <tr>\n",
       "      <th>0</th>\n",
       "      <td>gini</td>\n",
       "      <td>60</td>\n",
       "      <td>1.0</td>\n",
       "      <td>0.910152</td>\n",
       "      <td>0.0</td>\n",
       "      <td>0.082646</td>\n",
       "    </tr>\n",
       "    <tr>\n",
       "      <th>1</th>\n",
       "      <td>gini</td>\n",
       "      <td>100</td>\n",
       "      <td>1.0</td>\n",
       "      <td>0.910399</td>\n",
       "      <td>0.0</td>\n",
       "      <td>0.081540</td>\n",
       "    </tr>\n",
       "    <tr>\n",
       "      <th>2</th>\n",
       "      <td>gini</td>\n",
       "      <td>150</td>\n",
       "      <td>1.0</td>\n",
       "      <td>0.914290</td>\n",
       "      <td>0.0</td>\n",
       "      <td>0.079856</td>\n",
       "    </tr>\n",
       "    <tr>\n",
       "      <th>3</th>\n",
       "      <td>entropy</td>\n",
       "      <td>60</td>\n",
       "      <td>1.0</td>\n",
       "      <td>0.919747</td>\n",
       "      <td>0.0</td>\n",
       "      <td>0.067601</td>\n",
       "    </tr>\n",
       "    <tr>\n",
       "      <th>4</th>\n",
       "      <td>entropy</td>\n",
       "      <td>100</td>\n",
       "      <td>1.0</td>\n",
       "      <td>0.920962</td>\n",
       "      <td>0.0</td>\n",
       "      <td>0.067387</td>\n",
       "    </tr>\n",
       "    <tr>\n",
       "      <th>5</th>\n",
       "      <td>entropy</td>\n",
       "      <td>150</td>\n",
       "      <td>1.0</td>\n",
       "      <td>0.922876</td>\n",
       "      <td>0.0</td>\n",
       "      <td>0.065051</td>\n",
       "    </tr>\n",
       "  </tbody>\n",
       "</table>\n",
       "</div>"
      ],
      "text/plain": [
       "  criterion  n_estimators  ...  std_train_score  std_test_score\n",
       "0      gini            60  ...              0.0        0.082646\n",
       "1      gini           100  ...              0.0        0.081540\n",
       "2      gini           150  ...              0.0        0.079856\n",
       "3   entropy            60  ...              0.0        0.067601\n",
       "4   entropy           100  ...              0.0        0.067387\n",
       "5   entropy           150  ...              0.0        0.065051\n",
       "\n",
       "[6 rows x 6 columns]"
      ]
     },
     "execution_count": 24,
     "metadata": {
      "tags": []
     },
     "output_type": "execute_result"
    }
   ],
   "source": [
    "cv_ranforest_results_df = pd.concat([pd.DataFrame(cross_validated_randforest_result.cv_results_[\"params\"]),\n",
    "           pd.DataFrame(cross_validated_randforest_result.cv_results_[\"mean_train_score\"],columns=[\"mean_train_score\"]), pd.DataFrame(cross_validated_randforest_result.cv_results_[\"mean_test_score\"],columns=[\"mean_test_score\"]),\n",
    "          pd.DataFrame(cross_validated_randforest_result.cv_results_[\"std_train_score\"],columns=[\"std_train_score\"]), pd.DataFrame(cross_validated_randforest_result.cv_results_[\"std_test_score\"],columns=[\"std_test_score\"])],\n",
    "          axis=1)\n",
    "\n",
    "cv_ranforest_results_df"
   ]
  },
  {
   "cell_type": "code",
   "execution_count": 25,
   "metadata": {
    "colab": {
     "base_uri": "https://localhost:8080/",
     "height": 34
    },
    "colab_type": "code",
    "id": "pu7py0klOqEa",
    "outputId": "f4e395ca-a6b1-49cb-9f1a-9059e8121e58"
   },
   "outputs": [
    {
     "data": {
      "text/plain": [
       "0.9253755712846202"
      ]
     },
     "execution_count": 25,
     "metadata": {
      "tags": []
     },
     "output_type": "execute_result"
    }
   ],
   "source": [
    "f1_score(y_test,cv_prediction_randforest, average=\"macro\" )"
   ]
  },
  {
   "cell_type": "code",
   "execution_count": 68,
   "metadata": {
    "colab": {
     "base_uri": "https://localhost:8080/",
     "height": 557
    },
    "colab_type": "code",
    "id": "A9bMNmREdBO3",
    "outputId": "b75728ac-00a7-4a56-c3aa-0af8e366e03f"
   },
   "outputs": [
    {
     "data": {
      "image/png": "[encoded data removed]",
      "text/plain": [
       "<Figure size 1440x576 with 2 Axes>"
      ]
     },
     "metadata": {
      "needs_background": "light",
      "tags": []
     },
     "output_type": "display_data"
    }
   ],
   "source": [
    "randforest_prob_cv = cross_validated_randforest_result.predict_proba(X_test)\n",
    "\n",
    "fpr = dict()\n",
    "tpr = dict()\n",
    "precision = dict()\n",
    "recall = dict()\n",
    "\n",
    "\n",
    "plt.figure(figsize=(20, 8))\n",
    "plt.rcParams['axes.labelweight'] = 'bold'\n",
    "plt.rcParams['axes.labelsize'] = 12\n",
    "\n",
    "plt.subplot(1,2,1)\n",
    "for i in range(6):\n",
    "    fpr[i], tpr[i], _ = roc_curve(pd.get_dummies(test_labels[0]).values[:, i], randforest_prob_cv[:, i])\n",
    "    plt.plot(fpr[i], tpr[i], lw=2, label='{}'.format(activity_labels.iloc[i].activity_name))\n",
    "    plt.xlabel(\"false positive rate\")\n",
    "    plt.ylabel(\"true positive rate\")\n",
    "    plt.legend(loc=\"best\")\n",
    "    plt.title(\"ROC curve\", fontweight='bold')\n",
    "\n",
    "\n",
    "plt.subplot(1,2,2)\n",
    "\n",
    "for i in range(6):\n",
    "    precision[i], recall[i], _ = precision_recall_curve(pd.get_dummies(test_labels[0]).values[:, i], randforest_prob_cv[:, i])\n",
    "    plt.plot(recall[i], precision[i], lw=2, label='{}'.format(activity_labels.iloc[i].activity_name))\n",
    "    plt.xlabel(\"Recall\")\n",
    "    plt.ylabel(\"Precision\")\n",
    "    plt.legend(loc=\"best\")\n",
    "    plt.title(\"Precision-Recall curve\", fontweight='bold')\n",
    "    \n",
    "plt.suptitle(\"Random Forest Cross validation\", fontsize=15, fontweight='bold')\n",
    "\n",
    "plt.show()\n",
    "\n",
    "\n",
    "\n",
    "### It can be seen that the area under the curve for ROC curve is more (the true positive rate can ve achieved close to 0.9 with almost no false postive rate).\n",
    "### "
   ]
  },
  {
   "cell_type": "markdown",
   "metadata": {
    "colab_type": "text",
    "id": "jipSRZQP5e7s"
   },
   "source": [
    "## **4. Confusion Matrix plot for the generated models**\n",
    "(a) SVM model with Train test split"
   ]
  },
  {
   "cell_type": "code",
   "execution_count": 89,
   "metadata": {
    "colab": {
     "base_uri": "https://localhost:8080/",
     "height": 585
    },
    "colab_type": "code",
    "id": "g2-HiM79oulr",
    "outputId": "6090b038-f106-4a8b-b8a6-9dcbddc9f296"
   },
   "outputs": [
    {
     "data": {
      "image/png": "[encoded data removed]",
      "text/plain": [
       "<Figure size 720x576 with 2 Axes>"
      ]
     },
     "metadata": {
      "needs_background": "light",
      "tags": []
     },
     "output_type": "display_data"
    }
   ],
   "source": [
    "plt.figure(figsize = (10,8))\n",
    "\n",
    "labels = activity_labels.activity_name.values.tolist()\n",
    "conf_matrix_2 = confusion_matrix(y_true = y_test.values, y_pred = pred_svc_traditional,  normalize='true')\n",
    "sn.heatmap(conf_matrix_2, annot=True, xticklabels=labels, yticklabels=labels, cmap=\"BuPu\")\n",
    "plt.title(\"Confusion Matrix for simple SVM model\", fontsize=15, fontweight=\"bold\")\n",
    "plt.ylabel(\"True class\", fontsize=13)\n",
    "plt.xlabel(\"Predicted class\", fontsize=13)\n",
    "plt.tight_layout()\n",
    "plt.show()"
   ]
  },
  {
   "cell_type": "markdown",
   "metadata": {
    "colab_type": "text",
    "id": "nI1AJsNZ58T3"
   },
   "source": [
    "(b) SVM model with grouped cross validation"
   ]
  },
  {
   "cell_type": "code",
   "execution_count": 90,
   "metadata": {
    "colab": {
     "base_uri": "https://localhost:8080/",
     "height": 602
    },
    "colab_type": "code",
    "id": "J1H79IRxhkS2",
    "outputId": "e9f3f50f-9483-4bad-b0f5-453d09af49cf"
   },
   "outputs": [
    {
     "data": {
      "image/png": "[encoded data removed]",
      "text/plain": [
       "<Figure size 720x576 with 2 Axes>"
      ]
     },
     "metadata": {
      "needs_background": "light",
      "tags": []
     },
     "output_type": "display_data"
    }
   ],
   "source": [
    "plt.figure(figsize = (10,8))\n",
    "\n",
    "labels = activity_labels.activity_name.values.tolist()\n",
    "conf_matrix_1 = confusion_matrix(y_true = y_test.values, y_pred = cv_prediction_svm, normalize='true')\n",
    "plt.title(\"Confusion Matrix for grouped cross validated SVM model\", fontsize=15, fontweight=\"bold\")\n",
    "sn.heatmap(conf_matrix_1, annot=True, xticklabels=labels, yticklabels=labels, cmap=\"BuPu\")\n",
    "plt.tight_layout()\n",
    "plt.ylabel(\"True class\", fontsize=13)\n",
    "plt.xlabel(\"Predicted class\", fontsize=13)\n",
    "plt.show()"
   ]
  },
  {
   "cell_type": "markdown",
   "metadata": {
    "colab_type": "text",
    "id": "eT_qD2I26BY1"
   },
   "source": [
    "(c) Random Forest model with Train test split"
   ]
  },
  {
   "cell_type": "code",
   "execution_count": 91,
   "metadata": {
    "colab": {
     "base_uri": "https://localhost:8080/",
     "height": 602
    },
    "colab_type": "code",
    "id": "4431Gj9zhVXK",
    "outputId": "7027e047-7232-4821-8afd-d6c806b2da35"
   },
   "outputs": [
    {
     "data": {
      "image/png": "[encoded data removed]",
      "text/plain": [
       "<Figure size 720x576 with 2 Axes>"
      ]
     },
     "metadata": {
      "needs_background": "light",
      "tags": []
     },
     "output_type": "display_data"
    }
   ],
   "source": [
    "plt.figure(figsize = (10,8))\n",
    "\n",
    "cnf_random_forest = confusion_matrix(y_true = y_test, y_pred  = random_forest_predicted, normalize=\"true\")\n",
    "\n",
    "sn.heatmap(cnf_random_forest, annot=True, xticklabels=labels, yticklabels=labels, cmap=\"BuPu\")\n",
    "plt.title(\"Confusion Matrix for simple Random Forest model\", fontsize=15, fontweight=\"bold\")\n",
    "plt.tight_layout()\n",
    "plt.ylabel(\"True class\", fontsize=13)\n",
    "plt.xlabel(\"Predicted class\", fontsize=13)\n",
    "plt.show()"
   ]
  },
  {
   "cell_type": "markdown",
   "metadata": {
    "colab_type": "text",
    "id": "PNqOfRle6Gn_"
   },
   "source": [
    "(d) Random Forest model with Grouped cross validation"
   ]
  },
  {
   "cell_type": "code",
   "execution_count": 92,
   "metadata": {
    "colab": {
     "base_uri": "https://localhost:8080/",
     "height": 602
    },
    "colab_type": "code",
    "id": "EP3bBvnJgQKg",
    "outputId": "f1a871e1-c961-4deb-bd58-2125dfc5c9a2"
   },
   "outputs": [
    {
     "data": {
      "image/png": "[encoded data removed]",
      "text/plain": [
       "<Figure size 720x576 with 2 Axes>"
      ]
     },
     "metadata": {
      "needs_background": "light",
      "tags": []
     },
     "output_type": "display_data"
    }
   ],
   "source": [
    "plt.figure(figsize = (10,8))\n",
    "\n",
    "cnf_cv_random_forest = confusion_matrix(y_true = y_test, y_pred  = cv_prediction_randforest, normalize=\"true\")\n",
    "\n",
    "sn.heatmap(cnf_cv_random_forest, annot=True, xticklabels=labels, yticklabels=labels, cmap=\"BuPu\")\n",
    "plt.title(\"Confusion Matrix for Grouped Cross validated Random Forest model\", fontsize=15, fontweight=\"bold\")\n",
    "plt.tight_layout()\n",
    "plt.ylabel(\"True class\", fontsize=13)\n",
    "plt.xlabel(\"Predicted class\", fontsize=13)\n",
    "plt.show()"
   ]
  },
  {
   "cell_type": "markdown",
   "metadata": {
    "colab_type": "text",
    "id": "LM9DJWyAMXj7"
   },
   "source": [
    "## **5. Comparison of prediction results of the two classifers: OVR SVM, Random Forest**"
   ]
  },
  {
   "cell_type": "code",
   "execution_count": 88,
   "metadata": {
    "colab": {
     "base_uri": "https://localhost:8080/",
     "height": 521
    },
    "colab_type": "code",
    "id": "E128SJoFDv4C",
    "outputId": "5e21a86c-e3e0-45cc-ff89-e3b78d046b09"
   },
   "outputs": [
    {
     "data": {
      "image/png": "[encoded data removed]",
      "text/plain": [
       "<Figure size 1080x576 with 1 Axes>"
      ]
     },
     "metadata": {
      "needs_background": "light",
      "tags": []
     },
     "output_type": "display_data"
    }
   ],
   "source": [
    "models = ['Support Vector Machine', 'Random Forest']\n",
    "accuracy_results = [accuracy_svm*100, accuracy_randforest*100]\n",
    "accuracy_results_cv = [accuracy_svm_cv*100, accuracy_randforest_cv*100]\n",
    "\n",
    "df = pd.DataFrame(np.c_[accuracy_results,accuracy_results_cv], index=models)\n",
    "ax = df.plot(kind='bar', rot=0, figsize=(15,8), color=['b', 'r'])\n",
    "ax.set(xlabel=\"Prediction Classifer\", ylabel=\"Overall Accuracy in %\")\n",
    "ax.tick_params(labelsize=12)\n",
    "ax.legend([\"Train-test split\", \"Subject Cross Validation\"], fontsize=12)\n",
    "plt.title(\"Prediction accuracy for SVM and Random Forest\", fontweight=\"bold\", fontsize=15)\n",
    "plt.show()"
   ]
  },
  {
   "cell_type": "markdown",
   "metadata": {
    "colab_type": "text",
    "id": "IUwtnsSn69s6"
   },
   "source": [
    "## **6. References**"
   ]
  },
  {
   "cell_type": "markdown",
   "metadata": {
    "colab_type": "text",
    "id": "vwsYn_uXUv7-"
   },
   "source": [
    "[1] - Davide Anguita, Alessandro Ghio, Luca Oneto, Xavier Parra and Jorge L. Reyes-Ortiz. A Public Domain Dataset for Human Activity Recognition Using Smartphones. 21th European Symposium on Artificial Neural Networks, Computational Intelligence and Machine Learning, ESANN 2013. Bruges, Belgium 24-26 April 2013.\n",
    "\n",
    "\n",
    "[2] https://scikit-learn.org/stable/modules/generated/sklearn.multiclass.OneVsRestClassifier.html\n",
    "\n",
    "[3] https://scikit-learn.org/stable/modules/cross_validation.html\n",
    "\n",
    "[4] https://arxiv.org/pdf/1904.02666.pdf - Grouped cross validation\n",
    "\n",
    "[5] https://towardsdatascience.com/svm-hyper-parameter-tuning-using-gridsearchcv-49c0bc55ce29 (For Grid search CV)\n",
    "\n",
    "[10] https://stackoverflow.com/questions/58835592/result-of-gridsearchcv-as-table\n",
    "\n",
    "[11] https://scikit-learn.org/stable/modules/cross_validation.html#group-cv\n",
    "\n",
    "[12] L. Xu et al.  “Human activity recognition based on random forests”.  In:2017 13th International-Conference on Natural Computation, Fuzzy Systems and Knowledge Discovery (ICNC-FSKD).2017,pp.  548–553\n",
    "\n",
    "[13] Davide Anguita et al.  “Human activity recognition on smartphones using a multiclass hardware-friendly support vector machine”. In:International workshop on ambient assisted living. Springer.2012,pp.  216–223\n",
    "\n",
    "[14] https://machinelearningmastery.com/roc-curves-and-precision-recall-curves-for-classification-in-python/\n",
    "\n",
    "[15] https://www.datascienceblog.net/post/machine-learning/interpreting-roc-curves-auc/\n",
    "\n",
    "[16] https://stackoverflow.com/questions/12632992/gridsearch-for-an-estimator-inside-a-onevsrestclassifier"
   ]
  }
 ],
 "metadata": {
  "colab": {
   "collapsed_sections": [],
   "name": "HAR.ipynb",
   "provenance": []
  },
  "kernelspec": {
   "display_name": "virtualtensorflow",
   "language": "python",
   "name": "virtualtensorflow"
  },
  "language_info": {
   "codemirror_mode": {
    "name": "ipython",
    "version": 3
   },
   "file_extension": ".py",
   "mimetype": "text/x-python",
   "name": "python",
   "nbconvert_exporter": "python",
   "pygments_lexer": "ipython3",
   "version": "3.5.6"
  }
 },
 "nbformat": 4,
 "nbformat_minor": 1
}
